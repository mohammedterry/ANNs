{
  "nbformat": 4,
  "nbformat_minor": 0,
  "metadata": {
    "colab": {
      "name": "BERT_frozen.ipynb",
      "version": "0.3.2",
      "provenance": [],
      "collapsed_sections": [],
      "include_colab_link": true
    },
    "kernelspec": {
      "name": "python3",
      "display_name": "Python 3"
    }
  },
  "cells": [
    {
      "cell_type": "markdown",
      "metadata": {
        "id": "view-in-github",
        "colab_type": "text"
      },
      "source": [
        "<a href=\"https://colab.research.google.com/github/mohammedterry/ANNs/blob/master/BERT_frozen.ipynb\" target=\"_parent\"><img src=\"https://colab.research.google.com/assets/colab-badge.svg\" alt=\"Open In Colab\"/></a>"
      ]
    },
    {
      "cell_type": "markdown",
      "metadata": {
        "id": "nUyRlvatBIAm",
        "colab_type": "text"
      },
      "source": [
        "# Bert (Frozen) / Embeddings\n"
      ]
    },
    {
      "cell_type": "code",
      "metadata": {
        "id": "5djYOcIcSBox",
        "colab_type": "code",
        "colab": {
          "base_uri": "https://localhost:8080/",
          "height": 428
        },
        "outputId": "675282d7-1f72-4af3-f4d8-f948048e115f"
      },
      "source": [
        "!pip3 install pytorch_pretrained_bert\n",
        "\n",
        "from pytorch_pretrained_bert import BertTokenizer\n",
        "tokeniser = BertTokenizer.from_pretrained('bert-large-uncased', do_lower_case = True)\n",
        "\n",
        "from pytorch_pretrained_bert import BertModel\n",
        "bert = BertModel.from_pretrained('bert-large-uncased')\n",
        "\n",
        "import torch"
      ],
      "execution_count": 3,
      "outputs": [
        {
          "output_type": "stream",
          "text": [
            "Collecting pytorch_pretrained_bert\n",
            "\u001b[?25l  Downloading https://files.pythonhosted.org/packages/d7/e0/c08d5553b89973d9a240605b9c12404bcf8227590de62bae27acbcfe076b/pytorch_pretrained_bert-0.6.2-py3-none-any.whl (123kB)\n",
            "\u001b[K     |████████████████████████████████| 133kB 2.8MB/s \n",
            "\u001b[?25hRequirement already satisfied: regex in /usr/local/lib/python3.6/dist-packages (from pytorch_pretrained_bert) (2018.1.10)\n",
            "Requirement already satisfied: requests in /usr/local/lib/python3.6/dist-packages (from pytorch_pretrained_bert) (2.21.0)\n",
            "Requirement already satisfied: boto3 in /usr/local/lib/python3.6/dist-packages (from pytorch_pretrained_bert) (1.9.156)\n",
            "Requirement already satisfied: tqdm in /usr/local/lib/python3.6/dist-packages (from pytorch_pretrained_bert) (4.28.1)\n",
            "Requirement already satisfied: numpy in /usr/local/lib/python3.6/dist-packages (from pytorch_pretrained_bert) (1.16.3)\n",
            "Requirement already satisfied: torch>=0.4.1 in /usr/local/lib/python3.6/dist-packages (from pytorch_pretrained_bert) (1.1.0)\n",
            "Requirement already satisfied: chardet<3.1.0,>=3.0.2 in /usr/local/lib/python3.6/dist-packages (from requests->pytorch_pretrained_bert) (3.0.4)\n",
            "Requirement already satisfied: idna<2.9,>=2.5 in /usr/local/lib/python3.6/dist-packages (from requests->pytorch_pretrained_bert) (2.8)\n",
            "Requirement already satisfied: certifi>=2017.4.17 in /usr/local/lib/python3.6/dist-packages (from requests->pytorch_pretrained_bert) (2019.3.9)\n",
            "Requirement already satisfied: urllib3<1.25,>=1.21.1 in /usr/local/lib/python3.6/dist-packages (from requests->pytorch_pretrained_bert) (1.24.3)\n",
            "Requirement already satisfied: s3transfer<0.3.0,>=0.2.0 in /usr/local/lib/python3.6/dist-packages (from boto3->pytorch_pretrained_bert) (0.2.0)\n",
            "Requirement already satisfied: botocore<1.13.0,>=1.12.156 in /usr/local/lib/python3.6/dist-packages (from boto3->pytorch_pretrained_bert) (1.12.156)\n",
            "Requirement already satisfied: jmespath<1.0.0,>=0.7.1 in /usr/local/lib/python3.6/dist-packages (from boto3->pytorch_pretrained_bert) (0.9.4)\n",
            "Requirement already satisfied: python-dateutil<3.0.0,>=2.1; python_version >= \"2.7\" in /usr/local/lib/python3.6/dist-packages (from botocore<1.13.0,>=1.12.156->boto3->pytorch_pretrained_bert) (2.5.3)\n",
            "Requirement already satisfied: docutils>=0.10 in /usr/local/lib/python3.6/dist-packages (from botocore<1.13.0,>=1.12.156->boto3->pytorch_pretrained_bert) (0.14)\n",
            "Requirement already satisfied: six>=1.5 in /usr/local/lib/python3.6/dist-packages (from python-dateutil<3.0.0,>=2.1; python_version >= \"2.7\"->botocore<1.13.0,>=1.12.156->boto3->pytorch_pretrained_bert) (1.12.0)\n",
            "Installing collected packages: pytorch-pretrained-bert\n",
            "Successfully installed pytorch-pretrained-bert-0.6.2\n"
          ],
          "name": "stdout"
        },
        {
          "output_type": "stream",
          "text": [
            "100%|██████████| 231508/231508 [00:00<00:00, 5834164.07B/s]\n",
            "100%|██████████| 1248501532/1248501532 [00:24<00:00, 50557876.93B/s]\n"
          ],
          "name": "stderr"
        }
      ]
    },
    {
      "cell_type": "code",
      "metadata": {
        "id": "81vXF9oaUrO2",
        "colab_type": "code",
        "colab": {
          "base_uri": "https://localhost:8080/",
          "height": 68
        },
        "outputId": "5d4dbc50-3c4d-43f4-dd51-393b2cbbe04f"
      },
      "source": [
        "sentence = \"this is a test\"\n",
        "tokenised_sentence = [\"[CLS]\"] + tokeniser.tokenize(sentence) +  [\"[SEP]\"]\n",
        "print(tokenised_sentence)\n",
        "tokens_tensor = torch.tensor([tokeniser.convert_tokens_to_ids(tokenised_sentence)])\n",
        "print(tokens_tensor)\n",
        "segments_tensor = torch.tensor([[0 for _ in range(len(tokenised_sentence))]])\n",
        "encoded_layers, _ = bert(tokens_tensor, segments_tensor)\n",
        "len(encoded_layers)"
      ],
      "execution_count": 95,
      "outputs": [
        {
          "output_type": "stream",
          "text": [
            "['[CLS]', 'this', 'is', 'a', 'test', '[SEP]']\n",
            "tensor([[ 101, 2023, 2003, 1037, 3231,  102]])\n"
          ],
          "name": "stdout"
        },
        {
          "output_type": "execute_result",
          "data": {
            "text/plain": [
              "24"
            ]
          },
          "metadata": {
            "tags": []
          },
          "execution_count": 95
        }
      ]
    },
    {
      "cell_type": "markdown",
      "metadata": {
        "id": "fljgVs4va01h",
        "colab_type": "text"
      },
      "source": [
        "## Combining multiple word vectors into a single vector"
      ]
    },
    {
      "cell_type": "markdown",
      "metadata": {
        "id": "ZOEmxzJ4nG3o",
        "colab_type": "text"
      },
      "source": [
        "using final (24th) hidden layer as example - one vec per word, each with 1024 dimensions\n"
      ]
    },
    {
      "cell_type": "code",
      "metadata": {
        "id": "EA3A40w7XxSm",
        "colab_type": "code",
        "colab": {
          "base_uri": "https://localhost:8080/",
          "height": 153
        },
        "outputId": "3455da0c-765e-4f2c-d0c6-27dc59e3b576"
      },
      "source": [
        "print(encoded_layers[-1].shape)\n",
        "encoded_layers[-1][0]"
      ],
      "execution_count": 96,
      "outputs": [
        {
          "output_type": "stream",
          "text": [
            "torch.Size([1, 6, 1024])\n"
          ],
          "name": "stdout"
        },
        {
          "output_type": "execute_result",
          "data": {
            "text/plain": [
              "tensor([[-0.4665, -0.3775, -0.6638,  ...,  0.1361,  0.5160,  0.0705],\n",
              "        [-0.1793, -0.1920, -0.2831,  ..., -0.3865,  0.4590,  0.0127],\n",
              "        [-0.4999,  0.0956, -0.3832,  ..., -0.3222,  0.2968,  0.3539],\n",
              "        [-0.6077, -0.2828, -0.2071,  ..., -0.0763,  0.2473,  0.2906],\n",
              "        [-0.3770,  0.1065,  0.1112,  ...,  0.1929,  0.4056,  0.1685],\n",
              "        [-0.2457, -0.3538, -0.3710,  ..., -0.3502,  0.4159,  0.2079]],\n",
              "       grad_fn=<SelectBackward>)"
            ]
          },
          "metadata": {
            "tags": []
          },
          "execution_count": 96
        }
      ]
    },
    {
      "cell_type": "markdown",
      "metadata": {
        "id": "zTL5bZF5j8_Q",
        "colab_type": "text"
      },
      "source": [
        "**Method 1: Final state**"
      ]
    },
    {
      "cell_type": "code",
      "metadata": {
        "id": "MVnjZzpDkA5f",
        "colab_type": "code",
        "colab": {
          "base_uri": "https://localhost:8080/",
          "height": 68
        },
        "outputId": "de02d9ab-d20a-4c10-f9bb-9c71265a391b"
      },
      "source": [
        "final_state = encoded_layers[-1][0][-1]\n",
        "print(final_state.shape)\n",
        "final_state"
      ],
      "execution_count": 97,
      "outputs": [
        {
          "output_type": "stream",
          "text": [
            "torch.Size([1024])\n"
          ],
          "name": "stdout"
        },
        {
          "output_type": "execute_result",
          "data": {
            "text/plain": [
              "tensor([-0.2457, -0.3538, -0.3710,  ..., -0.3502,  0.4159,  0.2079],\n",
              "       grad_fn=<SelectBackward>)"
            ]
          },
          "metadata": {
            "tags": []
          },
          "execution_count": 97
        }
      ]
    },
    {
      "cell_type": "markdown",
      "metadata": {
        "id": "V04adBj2jlu8",
        "colab_type": "text"
      },
      "source": [
        "**Method 2: Sum pool**"
      ]
    },
    {
      "cell_type": "code",
      "metadata": {
        "id": "1U67BbUslYMA",
        "colab_type": "code",
        "colab": {
          "base_uri": "https://localhost:8080/",
          "height": 68
        },
        "outputId": "530b818b-06d4-44b2-8af8-aaf15f3c450b"
      },
      "source": [
        "sumpool = torch.sum(encoded_layers[-1][0],0) \n",
        "print(sumpool.shape)\n",
        "sumpool"
      ],
      "execution_count": 98,
      "outputs": [
        {
          "output_type": "stream",
          "text": [
            "torch.Size([1024])\n"
          ],
          "name": "stdout"
        },
        {
          "output_type": "execute_result",
          "data": {
            "text/plain": [
              "tensor([-2.3763, -1.0040, -1.7970,  ..., -0.8062,  2.3407,  1.1042],\n",
              "       grad_fn=<SumBackward2>)"
            ]
          },
          "metadata": {
            "tags": []
          },
          "execution_count": 98
        }
      ]
    },
    {
      "cell_type": "markdown",
      "metadata": {
        "id": "Aj7uRad4joZz",
        "colab_type": "text"
      },
      "source": [
        "**Method 3: Mean pool**"
      ]
    },
    {
      "cell_type": "code",
      "metadata": {
        "id": "FhKBNh9ulFg6",
        "colab_type": "code",
        "colab": {
          "base_uri": "https://localhost:8080/",
          "height": 68
        },
        "outputId": "15dea7b8-6397-4258-bff2-f19a082df8b2"
      },
      "source": [
        "meanpool = torch.mean(encoded_layers[-1][0],0)\n",
        "print(meanpool.shape)\n",
        "meanpool"
      ],
      "execution_count": 99,
      "outputs": [
        {
          "output_type": "stream",
          "text": [
            "torch.Size([1024])\n"
          ],
          "name": "stdout"
        },
        {
          "output_type": "execute_result",
          "data": {
            "text/plain": [
              "tensor([-0.3960, -0.1673, -0.2995,  ..., -0.1344,  0.3901,  0.1840],\n",
              "       grad_fn=<MeanBackward2>)"
            ]
          },
          "metadata": {
            "tags": []
          },
          "execution_count": 99
        }
      ]
    },
    {
      "cell_type": "markdown",
      "metadata": {
        "id": "u7fIttPQkON0",
        "colab_type": "text"
      },
      "source": [
        "**Method 4: concatenation of above methods**\n",
        "\n",
        "![alt text](https://cdn-images-1.medium.com/max/1600/1*AZdaco3CsoBILy4_-ys8Cw.png)"
      ]
    },
    {
      "cell_type": "code",
      "metadata": {
        "id": "Tvgkuh95l1FB",
        "colab_type": "code",
        "colab": {
          "base_uri": "https://localhost:8080/",
          "height": 68
        },
        "outputId": "d0574f0e-b71e-493d-9026-188f7d673583"
      },
      "source": [
        "sentence_vector = torch.cat((final_state, sumpool, meanpool), 0)\n",
        "print(sentence_vector.shape)\n",
        "sentence_vector"
      ],
      "execution_count": 100,
      "outputs": [
        {
          "output_type": "stream",
          "text": [
            "torch.Size([3072])\n"
          ],
          "name": "stdout"
        },
        {
          "output_type": "execute_result",
          "data": {
            "text/plain": [
              "tensor([-0.2457, -0.3538, -0.3710,  ..., -0.1344,  0.3901,  0.1840],\n",
              "       grad_fn=<CatBackward>)"
            ]
          },
          "metadata": {
            "tags": []
          },
          "execution_count": 100
        }
      ]
    },
    {
      "cell_type": "markdown",
      "metadata": {
        "id": "pxe9UeL8Xvjl",
        "colab_type": "text"
      },
      "source": [
        "## Which hidden layer to take?\n",
        "\n",
        "\n",
        "![alt text](http://jalammar.github.io/images/bert-feature-extraction-contextualized-embeddings.png)"
      ]
    },
    {
      "cell_type": "markdown",
      "metadata": {
        "id": "BG10tL7podFt",
        "colab_type": "text"
      },
      "source": [
        "Lets get the sentence vector representation for each of the 24 hidden layers (the above was only for the final hidden layer)"
      ]
    },
    {
      "cell_type": "code",
      "metadata": {
        "id": "zDleVJc9nhEE",
        "colab_type": "code",
        "colab": {}
      },
      "source": [
        "def sentence_vector(hiddenlayer_tensor):\n",
        "  final = hiddenlayer_tensor[-1]\n",
        "  sumpool = torch.sum(hiddenlayer_tensor,0) \n",
        "  meanpool = torch.mean(hiddenlayer_tensor,0)\n",
        "  return torch.cat((final,sumpool,meanpool),0)"
      ],
      "execution_count": 0,
      "outputs": []
    },
    {
      "cell_type": "code",
      "metadata": {
        "id": "gAUyxmdXoQWP",
        "colab_type": "code",
        "colab": {
          "base_uri": "https://localhost:8080/",
          "height": 34
        },
        "outputId": "6d1919e6-173c-40ab-9bfc-d394fddda4a5"
      },
      "source": [
        "layer_wise_sentence_vectors = [sentence_vector(hiddenlayer[0]) for hiddenlayer in encoded_layers]\n",
        "len(layer_wise_sentence_vectors)"
      ],
      "execution_count": 102,
      "outputs": [
        {
          "output_type": "execute_result",
          "data": {
            "text/plain": [
              "24"
            ]
          },
          "metadata": {
            "tags": []
          },
          "execution_count": 102
        }
      ]
    },
    {
      "cell_type": "markdown",
      "metadata": {
        "id": "rqkZ1QXZnW_G",
        "colab_type": "text"
      },
      "source": [
        "**Method: Concatenation of all hidden layers**\n",
        "\n",
        "![alt text](http://jalammar.github.io/images/bert-feature-extraction-contextualized-embeddings.png)"
      ]
    },
    {
      "cell_type": "code",
      "metadata": {
        "id": "JyiIxffZgym-",
        "colab_type": "code",
        "colab": {
          "base_uri": "https://localhost:8080/",
          "height": 68
        },
        "outputId": "9b9a9c72-f604-45c4-8bd2-05d32c1bf7c6"
      },
      "source": [
        "final_sentence_vector = torch.cat(layer_wise_sentence_vectors,0)\n",
        "print(final_sentence_vector.shape)\n",
        "final_sentence_vector"
      ],
      "execution_count": 103,
      "outputs": [
        {
          "output_type": "stream",
          "text": [
            "torch.Size([73728])\n"
          ],
          "name": "stdout"
        },
        {
          "output_type": "execute_result",
          "data": {
            "text/plain": [
              "tensor([ 0.1078,  0.1644,  0.0335,  ..., -0.1344,  0.3901,  0.1840],\n",
              "       grad_fn=<CatBackward>)"
            ]
          },
          "metadata": {
            "tags": []
          },
          "execution_count": 103
        }
      ]
    },
    {
      "cell_type": "markdown",
      "metadata": {
        "id": "xKz2ev0usqU_",
        "colab_type": "text"
      },
      "source": [
        "## Test"
      ]
    },
    {
      "cell_type": "code",
      "metadata": {
        "id": "-wJwiAr8azQC",
        "colab_type": "code",
        "colab": {}
      },
      "source": [
        "def bert_sentence_vector(sentence):\n",
        "  tokenised_sentence = [\"[CLS]\"] + tokeniser.tokenize(sentence) +  [\"[SEP]\"]\n",
        "  tokens_tensor = torch.tensor([tokeniser.convert_tokens_to_ids(tokenised_sentence)])\n",
        "  segments_tensor = torch.tensor([[0 for _ in range(len(tokenised_sentence))]])\n",
        "  hiddenlayers, _ = bert(tokens_tensor, segments_tensor)\n",
        "  sentence_vectors = [sentence_vector(layer[0]) for layer in hiddenlayers]\n",
        "  return torch.cat(sentence_vectors,0).detach().numpy()"
      ],
      "execution_count": 0,
      "outputs": []
    },
    {
      "cell_type": "code",
      "metadata": {
        "id": "mfuH5sqWrU_s",
        "colab_type": "code",
        "colab": {
          "base_uri": "https://localhost:8080/",
          "height": 68
        },
        "outputId": "a7629f83-6f6c-4a55-c32c-9418a60b63da"
      },
      "source": [
        "v = bert_sentence_vector(\"this is a test\")\n",
        "print(v.shape)\n",
        "v"
      ],
      "execution_count": 105,
      "outputs": [
        {
          "output_type": "stream",
          "text": [
            "(73728,)\n"
          ],
          "name": "stdout"
        },
        {
          "output_type": "execute_result",
          "data": {
            "text/plain": [
              "array([ 0.01702598,  0.11345232,  0.0334793 , ..., -0.16942096,\n",
              "       -0.00423936, -0.19679634], dtype=float32)"
            ]
          },
          "metadata": {
            "tags": []
          },
          "execution_count": 105
        }
      ]
    },
    {
      "cell_type": "code",
      "metadata": {
        "id": "Vic_dzAvszGe",
        "colab_type": "code",
        "colab": {}
      },
      "source": [
        "from sklearn.decomposition import PCA\n",
        "import pandas as pd\n",
        "import seaborn as sns\n",
        "import numpy as np\n",
        "import matplotlib.pyplot as plt\n",
        "from mpl_toolkits.mplot3d import axes3d, Axes3D \n",
        "\n",
        "def plot_clusters(words, svectors, clusters):\n",
        "  pca = PCA(n_components=3)\n",
        "  principalComponents = pca.fit_transform(svectors)\n",
        "  \n",
        "  dataframe = pd.DataFrame(data = principalComponents, columns = ['x', 'y','z'])\n",
        "\n",
        "  sns.set_style(\"whitegrid\")\n",
        "  palette = sns.color_palette(\"husl\", max(set(clusters))+1) + ['grey']\n",
        "  dataframe['colour'] = pd.Series([palette[i] for i in clusters])\n",
        "  \n",
        "  fig = plt.figure()\n",
        "  graph = Axes3D(fig)\n",
        "  [graph.text(x, z, y, s, 'x', color = c) for x, y, z, s, c in zip(dataframe['x'], dataframe['y'], dataframe['z'], words, dataframe['colour'])]\n",
        "  graph.set_xlim(min(dataframe['x']), max(dataframe['x']))\n",
        "  graph.set_ylim(min(dataframe['z']), max(dataframe['z']))\n",
        "  graph.set_zlim(min(dataframe['y']), max(dataframe['y']))\n",
        "  plt.show()\n",
        "  \n",
        "  graph2=sns.regplot(data=dataframe, x=\"x\", y=\"y\", fit_reg=False, marker=\"+\")\n",
        "  [graph2.text(x, y, s,color=c) for x,y,s,c in zip(dataframe['x'],dataframe['y'],words,dataframe[\"colour\"])]"
      ],
      "execution_count": 0,
      "outputs": []
    },
    {
      "cell_type": "code",
      "metadata": {
        "id": "QIpQ7uhrs8Ji",
        "colab_type": "code",
        "colab": {}
      },
      "source": [
        "r = 4\n",
        "sentences = [\"this is a test\"]*r + [\"this is an exam\"]*r + [\"i have a pet dog\"]*r + [\"i have a cat\"]*r + [\"i dont like animals\"]*r + [\"i love pets\"]*r\n",
        "idx_sentences = dict(enumerate(set(sentences)))\n",
        "sentences_idx = {s:i for i,s in idx_sentences.items()}\n",
        "topics = [sentences_idx[s] for s in sentences]\n",
        "vectors = [bert_sentence_vector(s) for s in sentences]"
      ],
      "execution_count": 0,
      "outputs": []
    },
    {
      "cell_type": "code",
      "metadata": {
        "id": "Bk4h8IXdtbW2",
        "colab_type": "code",
        "colab": {
          "base_uri": "https://localhost:8080/",
          "height": 585
        },
        "outputId": "a9c41c22-852d-45ee-a045-202bb9b77723"
      },
      "source": [
        "plot_clusters(sentences, vectors, topics)"
      ],
      "execution_count": 9,
      "outputs": [
        {
          "output_type": "display_data",
          "data": {
            "image/png": "[encoded data removed]",
            "text/plain": [
              "<Figure size 432x288 with 1 Axes>"
            ]
          },
          "metadata": {
            "tags": []
          }
        },
        {
          "output_type": "display_data",
          "data": {
            "image/png": "[encoded data removed]",
            "text/plain": [
              "<Figure size 432x288 with 1 Axes>"
            ]
          },
          "metadata": {
            "tags": []
          }
        }
      ]
    }
  ]
}