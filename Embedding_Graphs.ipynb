{
  "nbformat": 4,
  "nbformat_minor": 0,
  "metadata": {
    "colab": {
      "name": "Embedding Graphs.ipynb",
      "version": "0.3.2",
      "provenance": [],
      "collapsed_sections": [],
      "include_colab_link": true
    },
    "kernelspec": {
      "name": "python3",
      "display_name": "Python 3"
    }
  },
  "cells": [
    {
      "cell_type": "markdown",
      "metadata": {
        "id": "view-in-github",
        "colab_type": "text"
      },
      "source": [
        "<a href=\"https://colab.research.google.com/github/mohammedterry/ANNs/blob/master/Embedding_Graphs.ipynb\" target=\"_parent\"><img src=\"https://colab.research.google.com/assets/colab-badge.svg\" alt=\"Open In Colab\"/></a>"
      ]
    },
    {
      "cell_type": "markdown",
      "metadata": {
        "id": "jYRe6HiQkkLw",
        "colab_type": "text"
      },
      "source": [
        "# Toy Data to test embedding theory"
      ]
    },
    {
      "cell_type": "code",
      "metadata": {
        "id": "P-OPKpma0cdS",
        "colab_type": "code",
        "colab": {}
      },
      "source": [
        "from sklearn.decomposition import PCA\n",
        "import pandas as pd\n",
        "import seaborn as sns\n",
        "from scipy.spatial.distance import cosine\n",
        "\n",
        "def plot_vectors(words, svectors, clusters):\n",
        "  pca = PCA(n_components=2)\n",
        "  principalComponents = pca.fit_transform(svectors)\n",
        "  \n",
        "  dataframe = pd.DataFrame(data = principalComponents, columns = ['x', 'y'])\n",
        "\n",
        "  sns.set_style(\"whitegrid\")\n",
        "  palette = sns.color_palette(\"gist_rainbow_r\", max(clusters)+1)\n",
        "  dataframe['colour'] = pd.Series([palette[cluster] for cluster in clusters])\n",
        "    \n",
        "  graph2=sns.regplot(data=dataframe, x=\"x\", y=\"y\", fit_reg=False, marker=\"+\")\n",
        "  [graph2.text(x, y, s,color=c) for x,y,s,c in zip(dataframe['x'],dataframe['y'],words,dataframe[\"colour\"])]\n",
        "\n",
        "def similar_words(vector1,vectors):\n",
        "    return sorted([(cosine(vector1, vector2),word2) for word2,vector2 in vectors.items()])"
      ],
      "execution_count": 0,
      "outputs": []
    },
    {
      "cell_type": "code",
      "metadata": {
        "id": "V5ijLdGlJrIk",
        "colab_type": "code",
        "colab": {}
      },
      "source": [
        "clusters_idx = {\n",
        "    \"Ferrari\":0,\n",
        "    \"Ford\":0,\n",
        "    \"Skoda\":0,\n",
        "    \"Car\":1,\n",
        "    \"Motorbike\":1,\n",
        "    \"Bus\":1,\n",
        "    \"Vehicle\":2,\n",
        "    \"Walking\":3,\n",
        "    \"Jogging\":3,\n",
        "    \"Foot transport\":4,\n",
        "    \"Transportation\":5,\n",
        "}"
      ],
      "execution_count": 0,
      "outputs": []
    },
    {
      "cell_type": "code",
      "metadata": {
        "id": "cXLe6fcAbIUk",
        "colab_type": "code",
        "colab": {}
      },
      "source": [
        "edges = [\n",
        "    (\"Ferrari\",\"Car\"),\n",
        "    (\"Ford\",\"Car\"),\n",
        "    (\"Skoda\",\"Car\"),\n",
        "    (\"Car\",\"Vehicle\"),\n",
        "    (\"Motorbike\",\"Vehicle\"),\n",
        "    (\"Bus\",\"Vehicle\"),\n",
        "    (\"Walking\",\"Foot transport\"),\n",
        "    (\"Jogging\",\"Foot transport\"),\n",
        "    (\"Vehicle\",\"Transportation\"),\n",
        "    (\"Foot transport\",\"Transportation\"),\n",
        "]"
      ],
      "execution_count": 0,
      "outputs": []
    },
    {
      "cell_type": "code",
      "metadata": {
        "id": "hJhOHc_miZxo",
        "colab_type": "code",
        "outputId": "3d23c288-d754-4939-cb2c-3378b5d8d372",
        "colab": {
          "base_uri": "https://localhost:8080/",
          "height": 319
        }
      },
      "source": [
        "import networkx as nx\n",
        "\n",
        "G = nx.Graph()\n",
        "G.add_edges_from(edges)\n",
        "colours = [clusters_idx[node] for node in G.nodes]\n",
        "pos = nx.drawing.nx_pydot.graphviz_layout(G, prog='twopi')\n",
        "nx.draw(G, pos, node_color = colours, cmap = \"gist_rainbow_r\",  alpha=.5, with_labels=True)"
      ],
      "execution_count": 0,
      "outputs": [
        {
          "output_type": "display_data",
          "data": {
            "image/png": "[encoded data removed]",
            "text/plain": [
              "<Figure size 432x288 with 1 Axes>"
            ]
          },
          "metadata": {
            "tags": []
          }
        }
      ]
    },
    {
      "cell_type": "markdown",
      "metadata": {
        "id": "6poT3s44dK_T",
        "colab_type": "text"
      },
      "source": [
        "# Directed Graphs"
      ]
    },
    {
      "cell_type": "markdown",
      "metadata": {
        "id": "cKnSK8zEw0OB",
        "colab_type": "text"
      },
      "source": [
        "## Down Hierarchy \n",
        "The Child nodes for each word will be the boolean encoding for that word's vector\n",
        "\n",
        "cons: only those higher in hierarchy are similar - is that what we want?  e.g. Ford vs Car will have relation but Ford vs Skoda share no relation."
      ]
    },
    {
      "cell_type": "code",
      "metadata": {
        "id": "zvenbAilFJZW",
        "colab_type": "code",
        "outputId": "0e98ad1e-900c-4d1e-ca1a-f1bc3f2b5d3f",
        "colab": {
          "base_uri": "https://localhost:8080/",
          "height": 727
        }
      },
      "source": [
        "vectors = {\n",
        "  \"Ferrari\":[1,0,0,0,0,0,0,0,0,0,0],\n",
        "  \"Ford\":[0,1,0,0,0,0,0,0,0,0,0],\n",
        "  \"Skoda\":[0,0,1,0,0,0,0,0,0,0,0],\n",
        "  \"Motorbike\":[0,0,0,1,0,0,0,0,0,0,0],\n",
        "  \"Bus\":[0,0,0,0,1,0,0,0,0,0,0],\n",
        "  \"Walking\":[0,0,0,0,0,1,0,0,0,0,0],\n",
        "  \"Jogging\":[0,0,0,0,0,0,1,0,0,0,0],\n",
        "  \"Car\":[1,1,1,0,0,0,0,1,0,0,0],\n",
        "  \"Vehicle\":[1,1,1,1,1,0,0,1,1,0,0],\n",
        "  \"Foot transport\":[0,0,0,0,0,1,1,0,0,1,0],\n",
        "  \"Transportation\":[1,1,1,1,1,1,1,1,1,1,1],\n",
        "}\n",
        "plot_vectors(vectors.keys(), list(vectors.values()),[clusters_idx[word] for word in vectors] )\n",
        "similar_words(vectors[\"Ferrari\"],vectors)"
      ],
      "execution_count": 0,
      "outputs": [
        {
          "output_type": "execute_result",
          "data": {
            "text/plain": [
              "[(0.0, 'Ferrari'),\n",
              " (0.5, 'Car'),\n",
              " (0.6220355269907727, 'Vehicle'),\n",
              " (0.6984886554222364, 'Transportation'),\n",
              " (1.0, 'Bus'),\n",
              " (1.0, 'Foot transport'),\n",
              " (1.0, 'Ford'),\n",
              " (1.0, 'Jogging'),\n",
              " (1.0, 'Motorbike'),\n",
              " (1.0, 'Skoda'),\n",
              " (1.0, 'Walking')]"
            ]
          },
          "metadata": {
            "tags": []
          },
          "execution_count": 14
        },
        {
          "output_type": "display_data",
          "data": {
            "image/png": "[encoded data removed]",
            "text/plain": [
              "<Figure size 432x288 with 1 Axes>"
            ]
          },
          "metadata": {
            "tags": []
          }
        }
      ]
    },
    {
      "cell_type": "code",
      "metadata": {
        "id": "SMuwYTEx2ZPO",
        "colab_type": "code",
        "outputId": "074c18c6-f3bf-4cfa-d0f9-0142e2f5ecd2",
        "colab": {
          "base_uri": "https://localhost:8080/",
          "height": 461
        }
      },
      "source": [
        "similar_words(vectors[\"Car\"],vectors)"
      ],
      "execution_count": 0,
      "outputs": [
        {
          "output_type": "execute_result",
          "data": {
            "text/plain": [
              "[(0.0, 'Car'),\n",
              " (0.2440710539815455, 'Vehicle'),\n",
              " (0.39697731084447274, 'Transportation'),\n",
              " (0.5, 'Ferrari'),\n",
              " (0.5, 'Ford'),\n",
              " (0.5, 'Skoda'),\n",
              " (1.0, 'Bus'),\n",
              " (1.0, 'Foot transport'),\n",
              " (1.0, 'Jogging'),\n",
              " (1.0, 'Motorbike'),\n",
              " (1.0, 'Walking')]"
            ]
          },
          "metadata": {
            "tags": []
          },
          "execution_count": 15
        }
      ]
    },
    {
      "cell_type": "markdown",
      "metadata": {
        "id": "0-VpJFcneZqR",
        "colab_type": "text"
      },
      "source": [
        "## Up-Down hierarchy\n",
        "All nodes are listed.  For a given node, if another node is a child or parent node to it, it receives a 1. Gives preference to higher hierarchy first. Eg. car is more similar to vehicle than it is to ferrari"
      ]
    },
    {
      "cell_type": "code",
      "metadata": {
        "id": "61mUvdulhKR7",
        "colab_type": "code",
        "outputId": "e8cb0958-3328-4214-f484-678b45c479d7",
        "colab": {
          "base_uri": "https://localhost:8080/",
          "height": 727
        }
      },
      "source": [
        "vectors = {\n",
        "  \"Ferrari\":[1,0,0,0,0,0,0,1,1,0,1],\n",
        "  \"Ford\":[0,1,0,0,0,0,0,1,1,0,1],\n",
        "  \"Skoda\":[0,0,1,0,0,0,0,1,1,0,1],\n",
        "  \"Motorbike\":[0,0,0,1,0,0,0,0,1,0,1],\n",
        "  \"Bus\":[0,0,0,0,1,0,0,0,1,0,1],\n",
        "  \"Walking\":[0,0,0,0,0,1,0,0,0,1,1],\n",
        "  \"Jogging\":[0,0,0,0,0,0,1,0,0,1,1],\n",
        "  \"Car\":[1,1,1,0,0,0,0,1,1,0,1],\n",
        "  \"Vehicle\":[1,1,1,1,1,0,0,1,1,0,1],\n",
        "  \"Foot transport\":[0,0,0,0,0,1,1,0,0,1,1],\n",
        "  \"Transportation\":[1,1,1,1,1,1,1,1,1,1,1],\n",
        "}\n",
        "plot_vectors(vectors.keys(), list(vectors.values()),[clusters_idx[word] for word in vectors] )\n",
        "similar_words(vectors[\"Ferrari\"],vectors)"
      ],
      "execution_count": 0,
      "outputs": [
        {
          "output_type": "execute_result",
          "data": {
            "text/plain": [
              "[(0.0, 'Ferrari'),\n",
              " (0.18350341907227397, 'Car'),\n",
              " (0.2500000000000001, 'Ford'),\n",
              " (0.2500000000000001, 'Skoda'),\n",
              " (0.29289321881345254, 'Vehicle'),\n",
              " (0.39697731084447274, 'Transportation'),\n",
              " (0.42264973081037416, 'Bus'),\n",
              " (0.42264973081037416, 'Motorbike'),\n",
              " (0.7113248654051871, 'Jogging'),\n",
              " (0.7113248654051871, 'Walking'),\n",
              " (0.75, 'Foot transport')]"
            ]
          },
          "metadata": {
            "tags": []
          },
          "execution_count": 16
        },
        {
          "output_type": "display_data",
          "data": {
            "image/png": "[encoded data removed]",
            "text/plain": [
              "<Figure size 432x288 with 1 Axes>"
            ]
          },
          "metadata": {
            "tags": []
          }
        }
      ]
    },
    {
      "cell_type": "code",
      "metadata": {
        "id": "hdTr1f835bAl",
        "colab_type": "code",
        "outputId": "c7c3e35b-d1f6-411a-a839-19fcb7c5dd7e",
        "colab": {
          "base_uri": "https://localhost:8080/",
          "height": 461
        }
      },
      "source": [
        "similar_words(vectors[\"Car\"],vectors)"
      ],
      "execution_count": 0,
      "outputs": [
        {
          "output_type": "execute_result",
          "data": {
            "text/plain": [
              "[(0.0, 'Car'),\n",
              " (0.1339745962155613, 'Vehicle'),\n",
              " (0.18350341907227397, 'Ferrari'),\n",
              " (0.18350341907227397, 'Ford'),\n",
              " (0.18350341907227397, 'Skoda'),\n",
              " (0.2614510541240037, 'Transportation'),\n",
              " (0.5285954792089682, 'Bus'),\n",
              " (0.5285954792089682, 'Motorbike'),\n",
              " (0.7642977396044841, 'Jogging'),\n",
              " (0.7642977396044841, 'Walking'),\n",
              " (0.7958758547680684, 'Foot transport')]"
            ]
          },
          "metadata": {
            "tags": []
          },
          "execution_count": 17
        }
      ]
    },
    {
      "cell_type": "markdown",
      "metadata": {
        "id": "druc1kfIbpH2",
        "colab_type": "text"
      },
      "source": [
        "## Up Hierarchy\n",
        "For each word include the node and all parent nodes as 1. Theory is that each word will have a unique parent chain. Similar results to up down hierarchy but Gives preference to Lower hierarchy first. E.g. car us more similar to Ferrari than to vehicle. Good for examples. Also More efficient encoding as vectors are less dense / sparse and better for storage. also more computationally efficient to compute parent nodes only"
      ]
    },
    {
      "cell_type": "code",
      "metadata": {
        "id": "TeQpgHc7bqfc",
        "colab_type": "code",
        "outputId": "bb3d8503-c1bb-49e7-9d2a-c87c20bfaf2c",
        "colab": {
          "base_uri": "https://localhost:8080/",
          "height": 727
        }
      },
      "source": [
        "vectors = {\n",
        "  \"Ferrari\":[1,0,0,0,0,0,0,1,1,0,1],\n",
        "  \"Ford\": [0,1,0,0,0,0,0,1,1,0,1],\n",
        "  \"Skoda\": [0,0,1,0,0,0,0,1,1,0,1],\n",
        "  \"Motorbike\": [0,0,0,1,0,0,0,0,1,0,1],\n",
        "  \"Bus\":  [0,0,0,0,1,0,0,0,1,0,1],\n",
        "  \"Walking\": [0,0,0,0,0,1,0,0,0,1,1],\n",
        "  \"Jogging\": [0,0,0,0,0,0,1,0,0,1,1],\n",
        "  \"Car\": [0,0,0,0,0,0,0,1,1,0,1],\n",
        "  \"Vehicle\": [0,0,0,0,0,0,0,0,1,0,1],\n",
        "  \"Foot transport\": [0,0,0,0,0,0,0,0,0,1,1],\n",
        "  \"Transportation\": [0,0,0,0,0,0,0,0,0,0,1],\n",
        "}\n",
        "plot_vectors(vectors.keys(), list(vectors.values()),[clusters_idx[word] for word in vectors] )\n",
        "similar_words(vectors[\"Ferrari\"],vectors)"
      ],
      "execution_count": 0,
      "outputs": [
        {
          "output_type": "execute_result",
          "data": {
            "text/plain": [
              "[(0.0, 'Ferrari'),\n",
              " (0.1339745962155613, 'Car'),\n",
              " (0.2500000000000001, 'Ford'),\n",
              " (0.2500000000000001, 'Skoda'),\n",
              " (0.29289321881345254, 'Vehicle'),\n",
              " (0.42264973081037416, 'Bus'),\n",
              " (0.42264973081037416, 'Motorbike'),\n",
              " (0.5, 'Transportation'),\n",
              " (0.6464466094067263, 'Foot transport'),\n",
              " (0.7113248654051871, 'Jogging'),\n",
              " (0.7113248654051871, 'Walking')]"
            ]
          },
          "metadata": {
            "tags": []
          },
          "execution_count": 10
        },
        {
          "output_type": "display_data",
          "data": {
            "image/png": "[encoded data removed]",
            "text/plain": [
              "<Figure size 432x288 with 1 Axes>"
            ]
          },
          "metadata": {
            "tags": []
          }
        }
      ]
    },
    {
      "cell_type": "code",
      "metadata": {
        "id": "U9CIa2lu1z0Z",
        "colab_type": "code",
        "outputId": "64e6633a-0681-43b5-d7d7-46ddf97427e6",
        "colab": {
          "base_uri": "https://localhost:8080/",
          "height": 461
        }
      },
      "source": [
        "similar_words(vectors[\"Car\"],vectors)"
      ],
      "execution_count": 0,
      "outputs": [
        {
          "output_type": "execute_result",
          "data": {
            "text/plain": [
              "[(0.0, 'Car'),\n",
              " (0.1339745962155613, 'Ferrari'),\n",
              " (0.1339745962155613, 'Ford'),\n",
              " (0.1339745962155613, 'Skoda'),\n",
              " (0.18350341907227397, 'Vehicle'),\n",
              " (0.33333333333333326, 'Bus'),\n",
              " (0.33333333333333326, 'Motorbike'),\n",
              " (0.42264973081037416, 'Transportation'),\n",
              " (0.591751709536137, 'Foot transport'),\n",
              " (0.6666666666666666, 'Jogging'),\n",
              " (0.6666666666666666, 'Walking')]"
            ]
          },
          "metadata": {
            "tags": []
          },
          "execution_count": 11
        }
      ]
    },
    {
      "cell_type": "markdown",
      "metadata": {
        "id": "P7YzW_srfP9s",
        "colab_type": "text"
      },
      "source": [
        "# Non-Directed Graphs"
      ]
    },
    {
      "cell_type": "markdown",
      "metadata": {
        "id": "LbeEaFWG9JkV",
        "colab_type": "text"
      },
      "source": [
        "## Incidence matrix (Node-Edge)  \n",
        "Cons: Captures local relations but not long distance ones (i.e. nodes not directly connected by an edge)"
      ]
    },
    {
      "cell_type": "code",
      "metadata": {
        "id": "0cG-bf3KASms",
        "colab_type": "code",
        "outputId": "2413a69d-9209-47d3-955f-19e98fe75432",
        "colab": {
          "base_uri": "https://localhost:8080/",
          "height": 204
        }
      },
      "source": [
        "nx.incidence_matrix(G).todense()"
      ],
      "execution_count": 0,
      "outputs": [
        {
          "output_type": "execute_result",
          "data": {
            "text/plain": [
              "matrix([[1., 0., 0., 0., 0., 0., 0., 0., 0., 0.],\n",
              "        [1., 1., 1., 1., 0., 0., 0., 0., 0., 0.],\n",
              "        [0., 1., 0., 0., 0., 0., 0., 0., 0., 0.],\n",
              "        [0., 0., 1., 0., 0., 0., 0., 0., 0., 0.],\n",
              "        [0., 0., 0., 1., 1., 1., 1., 0., 0., 0.],\n",
              "        [0., 0., 0., 0., 1., 0., 0., 0., 0., 0.],\n",
              "        [0., 0., 0., 0., 0., 1., 0., 0., 0., 0.],\n",
              "        [0., 0., 0., 0., 0., 0., 0., 1., 0., 0.],\n",
              "        [0., 0., 0., 0., 0., 0., 0., 1., 1., 1.],\n",
              "        [0., 0., 0., 0., 0., 0., 0., 0., 1., 0.],\n",
              "        [0., 0., 0., 0., 0., 0., 1., 0., 0., 1.]])"
            ]
          },
          "metadata": {
            "tags": []
          },
          "execution_count": 265
        }
      ]
    },
    {
      "cell_type": "code",
      "metadata": {
        "id": "LRlgw_aI9M1x",
        "colab_type": "code",
        "outputId": "971adf60-14cf-4c76-ca43-1650cb878888",
        "colab": {
          "base_uri": "https://localhost:8080/",
          "height": 470
        }
      },
      "source": [
        "vectors = {node: [node in edge for edge in G.edges] for node in G.nodes}\n",
        "plot_vectors(vectors.keys(), list(vectors.values()),[clusters_idx[word] for word in vectors] )\n",
        "similar_words(vectors[\"Ferrari\"],vectors)"
      ],
      "execution_count": 0,
      "outputs": [
        {
          "output_type": "execute_result",
          "data": {
            "text/plain": [
              "[(0.0, 'Ferrari'),\n",
              " (0.5, 'Car'),\n",
              " (1.0, 'Bus'),\n",
              " (1.0, 'Foot transport'),\n",
              " (1.0, 'Ford'),\n",
              " (1.0, 'Jogging'),\n",
              " (1.0, 'Motorbike'),\n",
              " (1.0, 'Skoda'),\n",
              " (1.0, 'Transportation'),\n",
              " (1.0, 'Vehicle'),\n",
              " (1.0, 'Walking')]"
            ]
          },
          "metadata": {
            "tags": []
          },
          "execution_count": 266
        },
        {
          "output_type": "display_data",
          "data": {
            "image/png": "[encoded data removed]",
            "text/plain": [
              "<Figure size 432x288 with 1 Axes>"
            ]
          },
          "metadata": {
            "tags": []
          }
        }
      ]
    },
    {
      "cell_type": "markdown",
      "metadata": {
        "id": "0wkMqXFm5aiJ",
        "colab_type": "text"
      },
      "source": [
        "## Adjacency matrix (Node-Node)\n",
        "cons:  only captures local relations but more global than Incidence matrix.  It is larger than incidence matrix as number of nodes are typically more than number of edges"
      ]
    },
    {
      "cell_type": "code",
      "metadata": {
        "id": "ebM-5hGx_6Gd",
        "colab_type": "code",
        "outputId": "036b50e7-0ea0-431d-e544-53ad977cb45b",
        "colab": {
          "base_uri": "https://localhost:8080/",
          "height": 204
        }
      },
      "source": [
        "nx.adjacency_matrix(G).todense()"
      ],
      "execution_count": 0,
      "outputs": [
        {
          "output_type": "execute_result",
          "data": {
            "text/plain": [
              "matrix([[0, 1, 0, 0, 0, 0, 0, 0, 0, 0, 0],\n",
              "        [1, 0, 1, 1, 1, 0, 0, 0, 0, 0, 0],\n",
              "        [0, 1, 0, 0, 0, 0, 0, 0, 0, 0, 0],\n",
              "        [0, 1, 0, 0, 0, 0, 0, 0, 0, 0, 0],\n",
              "        [0, 1, 0, 0, 0, 1, 1, 0, 0, 0, 1],\n",
              "        [0, 0, 0, 0, 1, 0, 0, 0, 0, 0, 0],\n",
              "        [0, 0, 0, 0, 1, 0, 0, 0, 0, 0, 0],\n",
              "        [0, 0, 0, 0, 0, 0, 0, 0, 1, 0, 0],\n",
              "        [0, 0, 0, 0, 0, 0, 0, 1, 0, 1, 1],\n",
              "        [0, 0, 0, 0, 0, 0, 0, 0, 1, 0, 0],\n",
              "        [0, 0, 0, 0, 1, 0, 0, 0, 1, 0, 0]], dtype=int64)"
            ]
          },
          "metadata": {
            "tags": []
          },
          "execution_count": 267
        }
      ]
    },
    {
      "cell_type": "code",
      "metadata": {
        "id": "mSX3S73M2zHq",
        "colab_type": "code",
        "outputId": "4a26e3dc-8e25-409d-e37c-304c0714216f",
        "colab": {
          "base_uri": "https://localhost:8080/",
          "height": 470
        }
      },
      "source": [
        "vectors = {start_node: [start_node in G.neighbors(end_node) or start_node == end_node for end_node in G.nodes] for start_node in G.nodes}\n",
        "plot_vectors(vectors.keys(), list(vectors.values()),[clusters_idx[word] for word in vectors] )\n",
        "similar_words(vectors[\"Ferrari\"],vectors)"
      ],
      "execution_count": 0,
      "outputs": [
        {
          "output_type": "execute_result",
          "data": {
            "text/plain": [
              "[(0.0, 'Ferrari'),\n",
              " (0.3675444679663241, 'Car'),\n",
              " (0.5, 'Ford'),\n",
              " (0.5, 'Skoda'),\n",
              " (0.683772233983162, 'Vehicle'),\n",
              " (1.0, 'Bus'),\n",
              " (1.0, 'Foot transport'),\n",
              " (1.0, 'Jogging'),\n",
              " (1.0, 'Motorbike'),\n",
              " (1.0, 'Transportation'),\n",
              " (1.0, 'Walking')]"
            ]
          },
          "metadata": {
            "tags": []
          },
          "execution_count": 268
        },
        {
          "output_type": "display_data",
          "data": {
            "image/png": "[encoded data removed]",
            "text/plain": [
              "<Figure size 432x288 with 1 Axes>"
            ]
          },
          "metadata": {
            "tags": []
          }
        }
      ]
    },
    {
      "cell_type": "markdown",
      "metadata": {
        "id": "XtTzOcVM5hD-",
        "colab_type": "text"
      },
      "source": [
        "## Modified Adjacency Matrix (best)\n",
        "modified so that the values are not boolean, rather they are the minimum number of steps between the two nodes.  Now vector captures global relations - no matter how distant  \n",
        "\n",
        "Cons: vector is length of no. of nodes in graph"
      ]
    },
    {
      "cell_type": "code",
      "metadata": {
        "id": "qgHs_8O70qYi",
        "colab_type": "code",
        "outputId": "57d56804-fb19-4ea1-adb3-1d05cdba6f9a",
        "colab": {
          "base_uri": "https://localhost:8080/",
          "height": 727
        }
      },
      "source": [
        "vectors = {start_node: [1/len(nx.shortest_path(G, source=start_node, target=end_node)) for end_node in G.nodes] for start_node in G.nodes}\n",
        "plot_vectors(vectors.keys(), list(vectors.values()),[clusters_idx[word] for word in vectors] )\n",
        "similar_words(vectors[\"Ferrari\"],vectors)"
      ],
      "execution_count": 0,
      "outputs": [
        {
          "output_type": "execute_result",
          "data": {
            "text/plain": [
              "[(0.0, 'Ferrari'),\n",
              " (0.13162962411855683, 'Car'),\n",
              " (0.23813067420747147, 'Ford'),\n",
              " (0.23813067420747147, 'Skoda'),\n",
              " (0.24019239616863164, 'Vehicle'),\n",
              " (0.3208853710611824, 'Bus'),\n",
              " (0.3208853710611824, 'Motorbike'),\n",
              " (0.326623291514211, 'Transportation'),\n",
              " (0.4104325952473169, 'Foot transport'),\n",
              " (0.46328486049457773, 'Jogging'),\n",
              " (0.46328486049457773, 'Walking')]"
            ]
          },
          "metadata": {
            "tags": []
          },
          "execution_count": 18
        },
        {
          "output_type": "display_data",
          "data": {
            "image/png": "[encoded data removed]",
            "text/plain": [
              "<Figure size 432x288 with 1 Axes>"
            ]
          },
          "metadata": {
            "tags": []
          }
        }
      ]
    },
    {
      "cell_type": "code",
      "metadata": {
        "id": "X6igBLny6XBM",
        "colab_type": "code",
        "outputId": "3faa4040-c4f2-47eb-e29f-6e2ed18adfaa",
        "colab": {
          "base_uri": "https://localhost:8080/",
          "height": 461
        }
      },
      "source": [
        "similar_words(vectors[\"Car\"],vectors)"
      ],
      "execution_count": 0,
      "outputs": [
        {
          "output_type": "execute_result",
          "data": {
            "text/plain": [
              "[(0.0, 'Car'),\n",
              " (0.13162962411855683, 'Ferrari'),\n",
              " (0.13162962411855683, 'Ford'),\n",
              " (0.13162962411855683, 'Skoda'),\n",
              " (0.13435519625480485, 'Vehicle'),\n",
              " (0.23896209735645502, 'Bus'),\n",
              " (0.23896209735645502, 'Motorbike'),\n",
              " (0.24796602743686647, 'Transportation'),\n",
              " (0.352649158506377, 'Foot transport'),\n",
              " (0.4161632096092266, 'Jogging'),\n",
              " (0.4161632096092266, 'Walking')]"
            ]
          },
          "metadata": {
            "tags": []
          },
          "execution_count": 19
        }
      ]
    },
    {
      "cell_type": "markdown",
      "metadata": {
        "id": "qGokroKqjrrh",
        "colab_type": "text"
      },
      "source": [
        "# Real Data\n",
        "lets test out our methods using large, realworld graphs"
      ]
    },
    {
      "cell_type": "markdown",
      "metadata": {
        "id": "hVjGsqAIjfC2",
        "colab_type": "text"
      },
      "source": [
        "## WordNet (Directed Graph)"
      ]
    },
    {
      "cell_type": "code",
      "metadata": {
        "id": "TXA9MlLFlwJK",
        "colab_type": "code",
        "outputId": "2015b136-7f4c-45be-da57-42d3902ff2df",
        "colab": {
          "base_uri": "https://localhost:8080/",
          "height": 68
        }
      },
      "source": [
        "import nltk\n",
        "nltk.download('wordnet')\n",
        "from nltk.corpus import wordnet as wn"
      ],
      "execution_count": 0,
      "outputs": [
        {
          "output_type": "stream",
          "text": [
            "[nltk_data] Downloading package wordnet to /root/nltk_data...\n",
            "[nltk_data]   Unzipping corpora/wordnet.zip.\n"
          ],
          "name": "stdout"
        },
        {
          "output_type": "execute_result",
          "data": {
            "text/plain": [
              "True"
            ]
          },
          "metadata": {
            "tags": []
          },
          "execution_count": 38
        }
      ]
    },
    {
      "cell_type": "markdown",
      "metadata": {
        "id": "nWiUXXoV9iQW",
        "colab_type": "text"
      },
      "source": [
        " Index every synset in wordnet"
      ]
    },
    {
      "cell_type": "code",
      "metadata": {
        "id": "AzAiEAPUvF-7",
        "colab_type": "code",
        "colab": {}
      },
      "source": [
        "synset_idx = {synset:i for i,synset in enumerate(wn.all_synsets())}"
      ],
      "execution_count": 0,
      "outputs": []
    },
    {
      "cell_type": "markdown",
      "metadata": {
        "id": "vtNUX8nB9jVG",
        "colab_type": "text"
      },
      "source": [
        "Create a vocab_vector dictionary (using only parent nodes)"
      ]
    },
    {
      "cell_type": "code",
      "metadata": {
        "id": "yUBoP_Xi1qXv",
        "colab_type": "code",
        "colab": {}
      },
      "source": [
        "vectors = {}\n",
        "for synset in synset_idx:\n",
        "  vec = {synset_idx[parent_synset] for parent_synset in synset.closure(lambda s: s.hypernyms())}\n",
        "  for word in synset.lemma_names():\n",
        "    vectors[word] = vec"
      ],
      "execution_count": 0,
      "outputs": []
    },
    {
      "cell_type": "markdown",
      "metadata": {
        "id": "SQfcasj69l87",
        "colab_type": "text"
      },
      "source": [
        "Create alternative vocab_vector dictionary (using every relation)"
      ]
    },
    {
      "cell_type": "code",
      "metadata": {
        "id": "sW2FJy8N0Va1",
        "colab_type": "code",
        "colab": {}
      },
      "source": [
        "def everything_about(synset):\n",
        "  return set(synset.closure(lambda s: s.hypernyms())) | \\\n",
        "  set(synset.closure(lambda s: s.hyponyms()))  | \\\n",
        "  set(synset.closure(lambda s: s.part_meronyms()))  | \\\n",
        "  set(synset.closure(lambda s: s.substance_meronyms()))  | \\\n",
        "  set(synset.closure(lambda s: s.member_meronyms()))  | \\\n",
        "  set(synset.closure(lambda s: s.part_holonyms()))  | \\\n",
        "  set(synset.closure(lambda s: s.substance_holonyms()))  | \\\n",
        "  set(synset.closure(lambda s: s.member_holonyms()))  | \\\n",
        "  set(synset.closure(lambda s: s.topic_domains()))  | \\\n",
        "  set(synset.closure(lambda s: s.region_domains()))  | \\\n",
        "  set(synset.closure(lambda s: s.usage_domains()))  | \\\n",
        "  set(synset.closure(lambda s: s.entailments()))  | \\\n",
        "  set(synset.closure(lambda s: s.causes()))  | \\\n",
        "  set(synset.closure(lambda s: s.also_sees()))  | \\\n",
        "  set(synset.closure(lambda s: s.verb_groups()))  | \\\n",
        "  set(synset.closure(lambda s: s.similar_tos()))"
      ],
      "execution_count": 0,
      "outputs": []
    },
    {
      "cell_type": "code",
      "metadata": {
        "id": "ew8SeEOi-ili",
        "colab_type": "code",
        "colab": {}
      },
      "source": [
        "vectors2 = {}\n",
        "for synset in synset_idx:\n",
        "  vec = {synset_idx[related_synset] for related_synset in everything_about(synset)} \n",
        "  for word in synset.lemma_names():\n",
        "    vectors2[word] = vec"
      ],
      "execution_count": 0,
      "outputs": []
    },
    {
      "cell_type": "markdown",
      "metadata": {
        "id": "9oC_7n_1jnjz",
        "colab_type": "text"
      },
      "source": [
        "## Wikipedia (Non-Directed Graph)"
      ]
    },
    {
      "cell_type": "code",
      "metadata": {
        "id": "HF5Dzb2AxOdx",
        "colab_type": "code",
        "outputId": "b760c2d5-b869-4da8-f022-247550df777b",
        "colab": {
          "base_uri": "https://localhost:8080/",
          "height": 34
        }
      },
      "source": [
        "dog = wn.synset('dog.n.01')\n",
        "cat = wn.synset('cat.n.01')\n",
        "dog.path_similarity(cat) #shortest path (via hypernym/hyponym relations only)"
      ],
      "execution_count": 0,
      "outputs": [
        {
          "output_type": "execute_result",
          "data": {
            "text/plain": [
              "0.2"
            ]
          },
          "metadata": {
            "tags": []
          },
          "execution_count": 75
        }
      ]
    }
  ]
}