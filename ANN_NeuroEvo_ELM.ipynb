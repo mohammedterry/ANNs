{
  "nbformat": 4,
  "nbformat_minor": 0,
  "metadata": {
    "colab": {
      "name": "ANN_NeuroEvo_ELM.ipynb",
      "version": "0.3.2",
      "provenance": [],
      "collapsed_sections": [],
      "include_colab_link": true
    },
    "kernelspec": {
      "name": "python3",
      "display_name": "Python 3"
    }
  },
  "cells": [
    {
      "cell_type": "markdown",
      "metadata": {
        "id": "view-in-github",
        "colab_type": "text"
      },
      "source": [
        "<a href=\"https://colab.research.google.com/github/mohammedterry/ANNs/blob/master/ANN_NeuroEvo_ELM.ipynb\" target=\"_parent\"><img src=\"https://colab.research.google.com/assets/colab-badge.svg\" alt=\"Open In Colab\"/></a>"
      ]
    },
    {
      "metadata": {
        "id": "F5CvgmR83r8V",
        "colab_type": "code",
        "outputId": "d9fe49f0-5004-47fd-f156-45aaa2de31bc",
        "colab": {
          "base_uri": "https://localhost:8080/",
          "height": 86
        }
      },
      "cell_type": "code",
      "source": [
        "!curl -O https://pmcvariety.files.wordpress.com/2018/04/twitter-logo.jpg?w=100&h=100&crop=1\n",
        "!ls"
      ],
      "execution_count": 32,
      "outputs": [
        {
          "output_type": "stream",
          "text": [
            "  % Total    % Received % Xferd  Average Speed   Time    Time     Time  Current\n",
            "                                 Dload  Upload   Total   Spent    Left  Speed\n",
            "\r  0     0    0     0    0     0      0      0 --:--:-- --:--:-- --:--:--     0\r100  3593  100  3593    0     0  29211      0 --:--:-- --:--:-- --:--:-- 29211\n",
            " sample_data  'twitter-logo.jpg?w=100'\n"
          ],
          "name": "stdout"
        }
      ]
    },
    {
      "metadata": {
        "id": "ZCeDsSA-3u25",
        "colab_type": "code",
        "colab": {}
      },
      "cell_type": "code",
      "source": [
        "from PIL import Image\n",
        "image = Image.open('twitter-logo.jpg?w=100')"
      ],
      "execution_count": 0,
      "outputs": []
    },
    {
      "metadata": {
        "id": "iHLSD1L93xGd",
        "colab_type": "code",
        "colab": {}
      },
      "cell_type": "code",
      "source": [
        "import numpy as np\n",
        "image_array = np.asarray(image)"
      ],
      "execution_count": 0,
      "outputs": []
    },
    {
      "metadata": {
        "id": "mm98KTfg3z15",
        "colab_type": "code",
        "colab": {}
      },
      "cell_type": "code",
      "source": [
        "training_inputs,training_outputs = [],[]\n",
        "for row,rgbs in enumerate(image_array):\n",
        "  for column,rgb in enumerate(rgbs):\n",
        "    training_inputs.append(np.array([row,column]))\n",
        "    r,g,b = rgb\n",
        "    training_outputs.append(np.array([r/255,g/255,b/255]))"
      ],
      "execution_count": 0,
      "outputs": []
    },
    {
      "metadata": {
        "id": "PSy28SDVsmfJ",
        "colab_type": "text"
      },
      "cell_type": "markdown",
      "source": [
        "# NeuroEvolution"
      ]
    },
    {
      "metadata": {
        "id": "za1oBj0GstT9",
        "colab_type": "code",
        "colab": {}
      },
      "cell_type": "code",
      "source": [
        "import numpy as np\n",
        "import random\n",
        "\n",
        "class FFNN:\n",
        "  def __init__(self, weights):\n",
        "    self.weights = weights\n",
        "  \n",
        "  def _f(self,x): #activation function: sigmoid\n",
        "    return 1. / (1. + np.exp(-x))\n",
        "  \n",
        "  def __call__(self, x): #forward pass through each layer in the deep ffnn\n",
        "    for w in self.weights:\n",
        "      x = self._f(x @ w)\n",
        "    return x\n",
        "\n",
        "class GA:\n",
        "  evolutionary_history = [0]\n",
        "  #hyperparameters\n",
        "  n_hidden = 15\n",
        "  max_generations = 1000\n",
        "  population_size = 40\n",
        "  p_perturb_weight = .8\n",
        "  p_mutate_weight = .08\n",
        "  p_mutate_layer = .03\n",
        "\n",
        "  def __init__(self,n_inputs,n_outputs,x_test,y_test):\n",
        "    self.n_inputs, self.n_outputs = n_inputs,n_outputs \n",
        "    self.genomes = [[np.random.rand(self.n_inputs,self.n_hidden),np.random.rand(self.n_hidden,self.n_outputs)] for _ in range(self.population_size)]  #each genome is a 2D matrix of synapse weights for each layer in ffnn\n",
        "    self.x_test = x_test\n",
        "    self.y_test = y_test\n",
        "    \n",
        "  def fitness(self, weights):\n",
        "    ann = FFNN(weights)\n",
        "    y_predicted = np.array([ann(x) for x in self.x_test])\n",
        "    difference = np.sum((self.y_test - y_predicted)**2) \n",
        "    return 1/difference\n",
        "  \n",
        "  def rank(self,genomes):\n",
        "    fitnesses = [self.fitness(genome) for genome in genomes]\n",
        "    self.evolutionary_history.append( max(fitnesses) )\n",
        "    return [genomes[i] for _,i in sorted(zip(fitnesses,[i for i in range(len(fitnesses))]), reverse=True)] #rank genomes by fitness\n",
        "\n",
        "  def mutate(self,genomes):\n",
        "    def noise(x):\n",
        "      return x + np.random.uniform(-.1,.1) if np.random.random() <= self.p_perturb_weight else np.random.uniform(-1,1) if np.random.random() <= self.p_mutate_weight else x\n",
        "    noise = np.vectorize(noise) \n",
        "\n",
        "    for i,weights in enumerate(genomes):   \n",
        "      genomes[i] = [noise(layer) for layer in weights] #change some weights\n",
        "      if np.random.random() <= self.p_mutate_layer: #add another hidden layer \n",
        "        pointer = np.random.randint(1,len(weights)) #add it inbetween the input and output layers\n",
        "        genomes[i] = weights[:pointer] + [np.random.rand(self.n_hidden,self.n_hidden)] + weights[pointer:]                  \n",
        "    return genomes\n",
        "  \n",
        "  def crossover(self,genome1,genome2): #one-point crossover\n",
        "    pointer1 = np.random.randint(1,len(genome1))\n",
        "    pointer2 = np.random.randint(1,len(genome2))\n",
        "    new_genome1 = genome1[:pointer1] + genome2[pointer2:]\n",
        "    new_genome2 = genome2[:pointer2] + genome1[pointer1:]\n",
        "    return new_genome1, new_genome2\n",
        "  \n",
        "  def mate(self,genome1,genome2):\n",
        "    child1,child2 = self.crossover(genome1,genome2)\n",
        "    return genome1, genome2, child1, child2 # returns x2 parents & x2 children (i.e. mixtures of both parents)\n",
        "  \n",
        "  def g_algorithm(self):\n",
        "    elites = self.rank(self.genomes)[:(self.population_size // 4) -1] #keep top quarter for mating \n",
        "    self.best_genome = elites[0]\n",
        "    offspring = [child for parent1,parent2 in zip(elites,random.sample(elites, len(elites))) for child in self.mate(parent1,parent2) ]  #elite's offspring replace population (4 children for every genome)\n",
        "    self.genomes = self.mutate(offspring) + [self.best_genome] + [[np.random.rand(self.n_inputs,self.n_hidden), np.random.rand(self.n_hidden,self.n_outputs)] for _ in range(3)]\n",
        "    \n",
        "  def evolve(self):\n",
        "    for generation in range(self.max_generations):\n",
        "      self.g_algorithm()\n",
        "      print(generation, self.evolutionary_history[-1])\n",
        "      "
      ],
      "execution_count": 0,
      "outputs": []
    },
    {
      "metadata": {
        "id": "q-27AE_VzLg6",
        "colab_type": "code",
        "outputId": "92c1613a-cc02-45eb-8a7f-3a056f058835",
        "colab": {
          "base_uri": "https://localhost:8080/",
          "height": 639
        }
      },
      "cell_type": "code",
      "source": [
        "g = GA(2,3,training_inputs,training_outputs)\n",
        "g.evolve()\n",
        "best_weight = g.best_genome"
      ],
      "execution_count": 0,
      "outputs": [
        {
          "output_type": "stream",
          "text": [
            "0 0.0015014548981972446\n",
            "1 0.0015349094775174686\n",
            "2 0.0015871914712773311\n",
            "3 0.0017423485744680323\n",
            "4 0.0019188569550736448\n",
            "5 0.002285701541214244\n",
            "6 0.0023256904278934334\n",
            "7 0.002350954569866542\n",
            "8 0.002350954569866542\n",
            "9 0.002372584269141275\n",
            "10 0.002372584269141275\n",
            "11 0.0024651293143130343\n",
            "12 0.0024651293143130343\n",
            "13 0.0024651293143130343\n",
            "14 0.002475626861986037\n",
            "15 0.002475626861986037\n",
            "16 0.0025017013025113856\n",
            "17 0.0025311297445490344\n",
            "18 0.002546294662961028\n",
            "19 0.0026130965834026986\n",
            "20 0.0026130965834026986\n",
            "21 0.0026130965834026986\n",
            "22 0.0026130965834026986\n",
            "23 0.0026130965834026986\n",
            "24 0.0026130965834026986\n",
            "25 0.0026130965834026986\n",
            "26 0.0026130965834026986\n",
            "27 0.002617242745862149\n",
            "28 0.002617242745862149\n",
            "29 0.002617242745862149\n",
            "30 0.002617242745862149\n",
            "31 0.002617242745862149\n",
            "32 0.0026497895573244844\n",
            "33 0.0026497895573244844\n",
            "34 0.0026497895573244844\n",
            "35 0.0026497895573244844\n"
          ],
          "name": "stdout"
        }
      ]
    },
    {
      "metadata": {
        "id": "gz586KyzNPSF",
        "colab_type": "code",
        "outputId": "ca673c7d-def7-4f7f-bf49-c29214308150",
        "colab": {
          "base_uri": "https://localhost:8080/",
          "height": 301
        }
      },
      "cell_type": "code",
      "source": [
        "import matplotlib.pyplot as plt\n",
        "plt.plot(g.evolutionary_history)\n",
        "plt.xlabel('generations')\n",
        "plt.ylabel('fitness')"
      ],
      "execution_count": 44,
      "outputs": [
        {
          "output_type": "execute_result",
          "data": {
            "text/plain": [
              "Text(0, 0.5, 'fitness')"
            ]
          },
          "metadata": {
            "tags": []
          },
          "execution_count": 44
        },
        {
          "output_type": "display_data",
          "data": {
            "image/png": "[encoded data removed]",
            "text/plain": [
              "<Figure size 432x288 with 1 Axes>"
            ]
          },
          "metadata": {
            "tags": []
          }
        }
      ]
    },
    {
      "metadata": {
        "id": "7kbQAgmpRBWF",
        "colab_type": "code",
        "outputId": "19ee795e-95bd-4ae0-defa-98c3f68e91ce",
        "colab": {
          "base_uri": "https://localhost:8080/",
          "height": 380
        }
      },
      "cell_type": "code",
      "source": [
        "best_weight"
      ],
      "execution_count": 45,
      "outputs": [
        {
          "output_type": "execute_result",
          "data": {
            "text/plain": [
              "[array([[ 0.62785222,  0.71562108,  0.36081591,  0.43226141,  0.40869612,\n",
              "          0.3119378 ,  0.29222111,  0.90964541,  0.03719217,  0.97395606,\n",
              "         -0.36664533,  1.41142008, -0.00191884,  1.29017682,  0.70186627],\n",
              "        [ 0.13197066, -0.07815594, -0.41051013, -0.27012937,  0.22042487,\n",
              "          0.95902668,  0.70002455, -0.0753386 ,  1.03353151,  0.61394259,\n",
              "          0.10187795,  0.53571343,  0.03707282,  1.14442844,  0.64212475]]),\n",
              " array([[ 0.69999143,  0.09797277, -0.00335103],\n",
              "        [-0.55702924, -0.29822477,  0.0800354 ],\n",
              "        [ 1.53621406,  1.03486762,  0.87284974],\n",
              "        [-0.42165745,  0.00362047, -0.3783124 ],\n",
              "        [ 1.39762815,  0.36501137,  0.55949742],\n",
              "        [ 0.41819539,  0.53560007,  0.63568494],\n",
              "        [ 0.25514164,  0.15442585,  0.63277598],\n",
              "        [-0.6615813 , -0.22144733,  0.15713805],\n",
              "        [ 0.24871772,  1.03658564, -0.96146224],\n",
              "        [ 0.05207554,  0.27673485,  0.40901447],\n",
              "        [ 0.46860998,  0.58283575,  0.31137148],\n",
              "        [-0.57199831,  0.193097  ,  0.91436948],\n",
              "        [ 0.37733877, -0.78305662,  0.03876441],\n",
              "        [-0.20922892,  0.03251575,  0.30043384],\n",
              "        [-0.24820798,  0.40581551,  0.39650392]])]"
            ]
          },
          "metadata": {
            "tags": []
          },
          "execution_count": 45
        }
      ]
    },
    {
      "metadata": {
        "id": "CLZQ2hp_HWR6",
        "colab_type": "code",
        "outputId": "933e0ee2-af69-4d3a-9c34-6246ac0491c9",
        "colab": {
          "base_uri": "https://localhost:8080/",
          "height": 35
        }
      },
      "cell_type": "code",
      "source": [
        "evolved_ann = FFNN(best_weight)\n",
        "evolved_ann([1,1])"
      ],
      "execution_count": 46,
      "outputs": [
        {
          "output_type": "execute_result",
          "data": {
            "text/plain": [
              "array([0.79097908, 0.91450756, 0.94650401])"
            ]
          },
          "metadata": {
            "tags": []
          },
          "execution_count": 46
        }
      ]
    },
    {
      "metadata": {
        "id": "rVcq_0EzHgLK",
        "colab_type": "code",
        "outputId": "7d0c8aa9-6665-4cfb-d434-a5aae163402d",
        "colab": {
          "base_uri": "https://localhost:8080/",
          "height": 74
        }
      },
      "cell_type": "code",
      "source": [
        "predicted_outputs = evolved_ann(training_inputs)\n",
        "\n",
        "predicted_image_array = np.zeros_like(image_array)\n",
        "i = 0\n",
        "for row,rgbs in enumerate(predicted_image_array):\n",
        "  for column in range(len(rgbs)):\n",
        "    r,g,b = predicted_outputs[i]\n",
        "    predicted_image_array[row][column] = [r*255,g*255,b*255]\n",
        "    i += 1\n",
        "Image.fromarray(predicted_image_array)"
      ],
      "execution_count": 47,
      "outputs": [
        {
          "output_type": "execute_result",
          "data": {
            "image/png": "[encoded data removed]",
            "text/plain": [
              "<PIL.Image.Image image mode=RGB size=100x56 at 0x7FF9920F7F28>"
            ]
          },
          "metadata": {
            "tags": []
          },
          "execution_count": 47
        }
      ]
    },
    {
      "metadata": {
        "id": "yWK-2Q26sp_W",
        "colab_type": "text"
      },
      "cell_type": "markdown",
      "source": [
        "# Extreme Learning Machine"
      ]
    },
    {
      "metadata": {
        "id": "EtM4-h3FssTb",
        "colab_type": "code",
        "colab": {}
      },
      "cell_type": "code",
      "source": [
        "import numpy as np\n",
        "\n",
        "class ELM:\n",
        "  def __init__(self, n_inputs: int, n_hidden = 3000):\n",
        "    self.random_weights = np.random.normal(size=[n_inputs, n_hidden])\n",
        "    \n",
        "  def learn(self, X: np.ndarray, Y: np.ndarray):\n",
        "    H = self._hidden_layer(X)\n",
        "    self.output_weights = np.linalg.pinv(H) @ Y\n",
        "    \n",
        "  def _f(self, x: np.ndarray): \n",
        "    return 1. / (1. + np.exp(-x)) #activation function: sigmoid\n",
        "    \n",
        "  def _hidden_layer(self, inputs: np.ndarray): \n",
        "    return self._f(inputs @ self.random_weights)\n",
        "  \n",
        "  def _output_layer(self, hidden: np.ndarray): \n",
        "    return hidden @ self.output_weights\n",
        "  \n",
        "  def __call__(self, inputs: np.ndarray):  #infer\n",
        "    return self._output_layer(self._hidden_layer(inputs))"
      ],
      "execution_count": 0,
      "outputs": []
    },
    {
      "metadata": {
        "id": "PvqjUpUU3U4T",
        "colab_type": "code",
        "colab": {}
      },
      "cell_type": "code",
      "source": [
        "elm = ELM(2)\n",
        "elm.learn(np.array(training_inputs), np.array(training_outputs))"
      ],
      "execution_count": 0,
      "outputs": []
    },
    {
      "metadata": {
        "id": "EC-rxa2l7J7t",
        "colab_type": "code",
        "outputId": "d57b54ea-a6ac-4412-e9a1-e77546c0d2c7",
        "colab": {
          "base_uri": "https://localhost:8080/",
          "height": 54
        }
      },
      "cell_type": "code",
      "source": [
        "elm([1,1])"
      ],
      "execution_count": 0,
      "outputs": [
        {
          "output_type": "execute_result",
          "data": {
            "text/plain": [
              "array([0.95012379, 0.94977713, 0.94932604])"
            ]
          },
          "metadata": {
            "tags": []
          },
          "execution_count": 17
        }
      ]
    },
    {
      "metadata": {
        "id": "BejzJvp_5t3c",
        "colab_type": "code",
        "outputId": "b94a4494-03eb-4b41-9f72-e4d136567ae4",
        "colab": {
          "base_uri": "https://localhost:8080/",
          "height": 73
        }
      },
      "cell_type": "code",
      "source": [
        "predicted_outputs = elm(training_inputs)\n",
        "\n",
        "predicted_image_array = np.zeros_like(image_array)\n",
        "i = 0\n",
        "for row,rgbs in enumerate(predicted_image_array):\n",
        "  for column in range(len(rgbs)):\n",
        "    r,g,b = predicted_outputs[i]\n",
        "    predicted_image_array[row][column] = [r*255,g*255,b*255]\n",
        "    i += 1\n",
        "Image.fromarray(predicted_image_array)"
      ],
      "execution_count": 0,
      "outputs": [
        {
          "output_type": "execute_result",
          "data": {
            "image/png": "[encoded data removed]",
            "text/plain": [
              "<PIL.Image.Image image mode=RGB size=100x56 at 0x7FDAB5BFC550>"
            ]
          },
          "metadata": {
            "tags": []
          },
          "execution_count": 32
        }
      ]
    }
  ]
}