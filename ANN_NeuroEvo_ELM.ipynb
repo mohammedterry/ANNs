{
  "nbformat": 4,
  "nbformat_minor": 0,
  "metadata": {
    "colab": {
      "name": "ANN_NeuroEvo_ELM.ipynb",
      "version": "0.3.2",
      "provenance": [],
      "collapsed_sections": [],
      "include_colab_link": true
    },
    "kernelspec": {
      "name": "python3",
      "display_name": "Python 3"
    }
  },
  "cells": [
    {
      "cell_type": "markdown",
      "metadata": {
        "id": "view-in-github",
        "colab_type": "text"
      },
      "source": [
        "<a href=\"https://colab.research.google.com/github/mohammedterry/ANNs/blob/master/ANN_NeuroEvo_ELM.ipynb\" target=\"_parent\"><img src=\"https://colab.research.google.com/assets/colab-badge.svg\" alt=\"Open In Colab\"/></a>"
      ]
    },
    {
      "metadata": {
        "id": "F5CvgmR83r8V",
        "colab_type": "code",
        "outputId": "51e167a9-61dd-40bc-c47b-58a37e72a105",
        "colab": {
          "base_uri": "https://localhost:8080/",
          "height": 86
        }
      },
      "cell_type": "code",
      "source": [
        "!curl -O https://pmcvariety.files.wordpress.com/2018/04/twitter-logo.jpg?w=100&h=100&crop=1\n",
        "!ls"
      ],
      "execution_count": 100,
      "outputs": [
        {
          "output_type": "stream",
          "text": [
            "  % Total    % Received % Xferd  Average Speed   Time    Time     Time  Current\n",
            "                                 Dload  Upload   Total   Spent    Left  Speed\n",
            "\r  0     0    0     0    0     0      0      0 --:--:-- --:--:-- --:--:--     0\r100  3593  100  3593    0     0  16331      0 --:--:-- --:--:-- --:--:-- 16331\n",
            " sample_data  'twitter-logo.jpg?w=100'\n"
          ],
          "name": "stdout"
        }
      ]
    },
    {
      "metadata": {
        "id": "ZCeDsSA-3u25",
        "colab_type": "code",
        "colab": {}
      },
      "cell_type": "code",
      "source": [
        "from PIL import Image\n",
        "image = Image.open('twitter-logo.jpg?w=100')"
      ],
      "execution_count": 0,
      "outputs": []
    },
    {
      "metadata": {
        "id": "iHLSD1L93xGd",
        "colab_type": "code",
        "colab": {}
      },
      "cell_type": "code",
      "source": [
        "import numpy as np\n",
        "image_array = np.asarray(image)"
      ],
      "execution_count": 0,
      "outputs": []
    },
    {
      "metadata": {
        "id": "mm98KTfg3z15",
        "colab_type": "code",
        "colab": {}
      },
      "cell_type": "code",
      "source": [
        "training_inputs,training_outputs = [],[]\n",
        "for row,rgbs in enumerate(image_array):\n",
        "  for column,rgb in enumerate(rgbs):\n",
        "    training_inputs.append(np.array([row,column]))\n",
        "    r,g,b = rgb\n",
        "    training_outputs.append(np.array([r/255,g/255,b/255]))"
      ],
      "execution_count": 0,
      "outputs": []
    },
    {
      "metadata": {
        "id": "PSy28SDVsmfJ",
        "colab_type": "text"
      },
      "cell_type": "markdown",
      "source": [
        "# NeuroEvolution"
      ]
    },
    {
      "metadata": {
        "id": "za1oBj0GstT9",
        "colab_type": "code",
        "colab": {}
      },
      "cell_type": "code",
      "source": [
        "import numpy as np\n",
        "\n",
        "class FFNN:\n",
        "  def __init__(self, weights):\n",
        "    self.weights = weights\n",
        "  \n",
        "  def _f(self,x): #activation function: sigmoid\n",
        "    return 1. / (1. + np.exp(-x))\n",
        "  \n",
        "  def __call__(self, x): #forward pass through each layer in the deep ffnn\n",
        "    for w in self.weights:\n",
        "      x = self._f(x @ w)\n",
        "    return x\n",
        "\n",
        "class GA:\n",
        "  global_fitness = 0\n",
        "  evolutionary_history = [0]\n",
        "  best_genomes = []\n",
        "  #hyperparameters\n",
        "  n_hidden = 15\n",
        "  max_generations = 1000\n",
        "  population_size = 100\n",
        "  p_mutate_weight = .8\n",
        "  p_mutate_layer = .03\n",
        "\n",
        "  def __init__(self,n_inputs,n_outputs,x_test,y_test):\n",
        "    self.genomes = [[np.random.rand(n_inputs,self.n_hidden),np.random.rand(self.n_hidden,n_outputs)] for _ in range(self.population_size)]  #each genome is a 2D matrix of synapse weights for each layer in ffnn\n",
        "    self.n_outputs = n_outputs\n",
        "    self.x_test = x_test\n",
        "    self.y_test = y_test\n",
        "    \n",
        "  def fitness(self, weights):\n",
        "    ann = FFNN(weights)\n",
        "    y_predicted = np.array([ann(x) for x in self.x_test])\n",
        "    difference = np.sum(self.y_test - y_predicted) \n",
        "    return 1/difference\n",
        "  \n",
        "  def rank(self,genomes):\n",
        "    fitnesses = []\n",
        "    for genome in genomes:\n",
        "      fitnesses.append(self.fitness(genome))  #measure the fitness of each genome\n",
        "      if fitnesses[-1] > self.global_fitness: #store the fittest genomes\n",
        "        self.global_fitness = fitnesses[-1]\n",
        "        self.best_genomes = [genome]\n",
        "      elif fitnesses[-1] == self.global_fitness:\n",
        "        self.best_genomes.append(genome)   \n",
        "    return [genomes[i] for _,i in sorted(zip(fitnesses,[i for i in range(len(fitnesses))]), reverse=True)] #rank genomes by fitness\n",
        "\n",
        "  def mutate(self,genomes):\n",
        "    def noise(x):\n",
        "      return x + np.random.uniform(-.1,.1) if np.random.random() <= self.p_mutate_weight else x\n",
        "    noise = np.vectorize(noise) \n",
        "\n",
        "    for i,weights in enumerate(genomes):   \n",
        "      genomes[i] = [noise(layer) for layer in weights] #change some weights\n",
        "      if np.random.random() <= self.p_mutate_layer: #add another hidden layer \n",
        "        pointer = np.random.randint(1,len(weights)) #add it inbetween the input and output layers\n",
        "        genomes[i] = weights[:pointer] + [np.random.rand(self.n_hidden,self.n_hidden)] + weights[pointer:]                  \n",
        "    return genomes\n",
        "  \n",
        "  def crossover(self,genome1,genome2): #one-point crossover\n",
        "    pointer1 = np.random.randint(1,len(genome1))\n",
        "    pointer2 = np.random.randint(1,len(genome2))\n",
        "    new_genome1 = genome1[:pointer1] + genome2[pointer2:]\n",
        "    new_genome2 = genome2[:pointer2] + genome1[pointer1:]\n",
        "    return new_genome1, new_genome2\n",
        "  \n",
        "  def mate(self,genome1,genome2):\n",
        "    child1,child2 = self.crossover(genome1,genome2)\n",
        "    return genome1, genome2, child1, child2 # returns x2 parents & x2 children (i.e. mixtures of both parents)\n",
        "  \n",
        "  def g_algorithm(self):\n",
        "    elites = self.rank(self.genomes)[:self.population_size // 4] #keep top quarter for mating \n",
        "    offspring = [child for parent1,parent2 in zip(elites,random.sample(elites, len(elites))) for child in self.mate(parent1,parent2) ]  #elite's offspring replace population (4 children for every genome)\n",
        "    self.genomes = self.mutate(offspring)\n",
        "    \n",
        "  def evolve(self):\n",
        "    for _ in range(self.max_generations):\n",
        "      self.g_algorithm()\n",
        "      self.evolutionary_history.append(self.global_fitness)\n",
        "    return sorted(self.best_genomes, key=lambda x: len(x)) #rank best solutions by network size (to give preference to smaller evolved nns)\n",
        "      "
      ],
      "execution_count": 0,
      "outputs": []
    },
    {
      "metadata": {
        "id": "q-27AE_VzLg6",
        "colab_type": "code",
        "colab": {}
      },
      "cell_type": "code",
      "source": [
        "g = GA(2,3,training_inputs,training_outputs)\n",
        "best_weights = g.evolve()[0]"
      ],
      "execution_count": 0,
      "outputs": []
    },
    {
      "metadata": {
        "id": "gz586KyzNPSF",
        "colab_type": "code",
        "colab": {
          "base_uri": "https://localhost:8080/",
          "height": 301
        },
        "outputId": "6c1b714a-6935-4cce-8d8f-54d2cde65a40"
      },
      "cell_type": "code",
      "source": [
        "import matplotlib.pyplot as plt\n",
        "plt.plot(g.evolutionary_history)\n",
        "plt.xlabel('generations')\n",
        "plt.ylabel('fitness')"
      ],
      "execution_count": 385,
      "outputs": [
        {
          "output_type": "execute_result",
          "data": {
            "text/plain": [
              "Text(0, 0.5, 'fitness')"
            ]
          },
          "metadata": {
            "tags": []
          },
          "execution_count": 385
        },
        {
          "output_type": "display_data",
          "data": {
            "image/png": "[encoded data removed]",
            "text/plain": [
              "<Figure size 432x288 with 1 Axes>"
            ]
          },
          "metadata": {
            "tags": []
          }
        }
      ]
    },
    {
      "metadata": {
        "id": "7kbQAgmpRBWF",
        "colab_type": "code",
        "colab": {
          "base_uri": "https://localhost:8080/",
          "height": 138
        },
        "outputId": "76f2ec4e-a7a7-40f9-d179-da19a7581bf8"
      },
      "cell_type": "code",
      "source": [
        "best_weights"
      ],
      "execution_count": 386,
      "outputs": [
        {
          "output_type": "execute_result",
          "data": {
            "text/plain": [
              "[array([[0.74682069, 0.32715987, 0.63424651, 0.40314   , 0.28023775],\n",
              "        [0.9322168 , 0.52008344, 0.9532515 , 0.95673727, 0.41918324]]),\n",
              " array([[ 0.1420551 ,  0.87006956,  1.08950219],\n",
              "        [ 0.23891473,  0.53580561, -0.07493486],\n",
              "        [ 0.39369449,  0.34183341, -0.22922182],\n",
              "        [ 0.6244839 ,  0.1418231 ,  0.13983519],\n",
              "        [ 0.33632726,  0.74115524,  1.00166438]])]"
            ]
          },
          "metadata": {
            "tags": []
          },
          "execution_count": 386
        }
      ]
    },
    {
      "metadata": {
        "id": "CLZQ2hp_HWR6",
        "colab_type": "code",
        "colab": {
          "base_uri": "https://localhost:8080/",
          "height": 35
        },
        "outputId": "f56665f5-577a-4e00-d5c2-fe8a6dc52f14"
      },
      "cell_type": "code",
      "source": [
        "evolved_ann = FFNN(best_weights)\n",
        "evolved_ann([1,1])"
      ],
      "execution_count": 387,
      "outputs": [
        {
          "output_type": "execute_result",
          "data": {
            "text/plain": [
              "array([0.79173936, 0.88081118, 0.81090219])"
            ]
          },
          "metadata": {
            "tags": []
          },
          "execution_count": 387
        }
      ]
    },
    {
      "metadata": {
        "id": "rVcq_0EzHgLK",
        "colab_type": "code",
        "colab": {
          "base_uri": "https://localhost:8080/",
          "height": 74
        },
        "outputId": "3c4f8943-beaa-406f-ee33-2e8f16093a46"
      },
      "cell_type": "code",
      "source": [
        "predicted_outputs = evolved_ann(training_inputs)\n",
        "\n",
        "predicted_image_array = np.zeros_like(image_array)\n",
        "i = 0\n",
        "for row,rgbs in enumerate(predicted_image_array):\n",
        "  for column in range(len(rgbs)):\n",
        "    r,g,b = predicted_outputs[i]\n",
        "    predicted_image_array[row][column] = [r*255,g*255,b*255]\n",
        "    i += 1\n",
        "Image.fromarray(predicted_image_array)"
      ],
      "execution_count": 388,
      "outputs": [
        {
          "output_type": "execute_result",
          "data": {
            "image/png": "[encoded data removed]",
            "text/plain": [
              "<PIL.Image.Image image mode=RGB size=100x56 at 0x7FEF958876A0>"
            ]
          },
          "metadata": {
            "tags": []
          },
          "execution_count": 388
        }
      ]
    },
    {
      "metadata": {
        "id": "yWK-2Q26sp_W",
        "colab_type": "text"
      },
      "cell_type": "markdown",
      "source": [
        "# Extreme Learning Machine"
      ]
    },
    {
      "metadata": {
        "id": "EtM4-h3FssTb",
        "colab_type": "code",
        "colab": {}
      },
      "cell_type": "code",
      "source": [
        "import numpy as np\n",
        "\n",
        "class ELM:\n",
        "  def __init__(self, n_inputs: int, n_hidden = 3000):\n",
        "    self.random_weights = np.random.normal(size=[n_inputs, n_hidden])\n",
        "    \n",
        "  def learn(self, X: np.ndarray, Y: np.ndarray):\n",
        "    H = self._hidden_layer(X)\n",
        "    self.output_weights = np.linalg.pinv(H) @ Y\n",
        "    \n",
        "  def _f(self, x: np.ndarray): \n",
        "    return 1. / (1. + np.exp(-x)) #activation function: sigmoid\n",
        "    \n",
        "  def _hidden_layer(self, inputs: np.ndarray): \n",
        "    return self._f(inputs @ self.random_weights)\n",
        "  \n",
        "  def _output_layer(self, hidden: np.ndarray): \n",
        "    return hidden @ self.output_weights\n",
        "  \n",
        "  def __call__(self, inputs: np.ndarray):  #infer\n",
        "    return self._output_layer(self._hidden_layer(inputs))"
      ],
      "execution_count": 0,
      "outputs": []
    },
    {
      "metadata": {
        "id": "PvqjUpUU3U4T",
        "colab_type": "code",
        "colab": {}
      },
      "cell_type": "code",
      "source": [
        "elm = ELM(2)\n",
        "elm.learn(np.array(training_inputs), np.array(training_outputs))"
      ],
      "execution_count": 0,
      "outputs": []
    },
    {
      "metadata": {
        "id": "EC-rxa2l7J7t",
        "colab_type": "code",
        "outputId": "d57b54ea-a6ac-4412-e9a1-e77546c0d2c7",
        "colab": {
          "base_uri": "https://localhost:8080/",
          "height": 54
        }
      },
      "cell_type": "code",
      "source": [
        "elm([1,1])"
      ],
      "execution_count": 0,
      "outputs": [
        {
          "output_type": "execute_result",
          "data": {
            "text/plain": [
              "array([0.95012379, 0.94977713, 0.94932604])"
            ]
          },
          "metadata": {
            "tags": []
          },
          "execution_count": 17
        }
      ]
    },
    {
      "metadata": {
        "id": "BejzJvp_5t3c",
        "colab_type": "code",
        "outputId": "b94a4494-03eb-4b41-9f72-e4d136567ae4",
        "colab": {
          "base_uri": "https://localhost:8080/",
          "height": 73
        }
      },
      "cell_type": "code",
      "source": [
        "predicted_outputs = elm(training_inputs)\n",
        "\n",
        "predicted_image_array = np.zeros_like(image_array)\n",
        "i = 0\n",
        "for row,rgbs in enumerate(predicted_image_array):\n",
        "  for column in range(len(rgbs)):\n",
        "    r,g,b = predicted_outputs[i]\n",
        "    predicted_image_array[row][column] = [r*255,g*255,b*255]\n",
        "    i += 1\n",
        "Image.fromarray(predicted_image_array)"
      ],
      "execution_count": 0,
      "outputs": [
        {
          "output_type": "execute_result",
          "data": {
            "image/png": "[encoded data removed]",
            "text/plain": [
              "<PIL.Image.Image image mode=RGB size=100x56 at 0x7FDAB5BFC550>"
            ]
          },
          "metadata": {
            "tags": []
          },
          "execution_count": 32
        }
      ]
    }
  ]
}