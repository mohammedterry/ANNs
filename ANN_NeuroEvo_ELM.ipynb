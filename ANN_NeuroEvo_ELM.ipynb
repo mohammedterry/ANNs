{
  "nbformat": 4,
  "nbformat_minor": 0,
  "metadata": {
    "colab": {
      "name": "ANN_NeuroEvo_ELM.ipynb",
      "version": "0.3.2",
      "provenance": [],
      "collapsed_sections": [],
      "include_colab_link": true
    },
    "kernelspec": {
      "name": "python3",
      "display_name": "Python 3"
    }
  },
  "cells": [
    {
      "cell_type": "markdown",
      "metadata": {
        "id": "view-in-github",
        "colab_type": "text"
      },
      "source": [
        "<a href=\"https://colab.research.google.com/github/mohammedterry/ANNs/blob/master/ANN_NeuroEvo_ELM.ipynb\" target=\"_parent\"><img src=\"https://colab.research.google.com/assets/colab-badge.svg\" alt=\"Open In Colab\"/></a>"
      ]
    },
    {
      "metadata": {
        "id": "F5CvgmR83r8V",
        "colab_type": "code",
        "outputId": "20b89bea-24df-4405-8e3f-f0ff390dfe1b",
        "colab": {
          "base_uri": "https://localhost:8080/",
          "height": 198
        }
      },
      "cell_type": "code",
      "source": [
        "!curl -O https://pmcvariety.files.wordpress.com/2018/04/twitter-logo.jpg?w=100&h=100&crop=1\n",
        "!ls"
      ],
      "execution_count": 0,
      "outputs": [
        {
          "output_type": "stream",
          "text": [
            "  % Total    % Received % Xferd  Average Speed   Time    Time     Time  Current\n",
            "                                 Dload  Upload   Total   Spent    Left  Speed\n",
            "\r  0     0    0     0    0     0      0      0 --:--:-- --:--:-- --:--:--     0\r100  3593  100  3593    0     0  35930      0 --:--:-- --:--:-- --:--:-- 35930\n",
            " sample_data  'twitter-logo.jpg?w=100'\n"
          ],
          "name": "stdout"
        }
      ]
    },
    {
      "metadata": {
        "id": "ZCeDsSA-3u25",
        "colab_type": "code",
        "colab": {}
      },
      "cell_type": "code",
      "source": [
        "from PIL import Image\n",
        "image = Image.open('twitter-logo.jpg?w=100')"
      ],
      "execution_count": 0,
      "outputs": []
    },
    {
      "metadata": {
        "id": "iHLSD1L93xGd",
        "colab_type": "code",
        "colab": {}
      },
      "cell_type": "code",
      "source": [
        "import numpy as np\n",
        "image_array = np.asarray(image)"
      ],
      "execution_count": 0,
      "outputs": []
    },
    {
      "metadata": {
        "id": "mm98KTfg3z15",
        "colab_type": "code",
        "colab": {}
      },
      "cell_type": "code",
      "source": [
        "training_inputs,training_outputs = [],[]\n",
        "for row,rgbs in enumerate(image_array):\n",
        "  for column,rgb in enumerate(rgbs):\n",
        "    training_inputs.append(np.array([row,column]))\n",
        "    r,g,b = rgb\n",
        "    training_outputs.append(np.array([r/255,g/255,b/255]))"
      ],
      "execution_count": 0,
      "outputs": []
    },
    {
      "metadata": {
        "id": "PSy28SDVsmfJ",
        "colab_type": "text"
      },
      "cell_type": "markdown",
      "source": [
        "# NeuroEvolution"
      ]
    },
    {
      "metadata": {
        "id": "za1oBj0GstT9",
        "colab_type": "code",
        "colab": {}
      },
      "cell_type": "code",
      "source": [
        "import numpy as np\n",
        "import random\n",
        "\n",
        "class FFNN:\n",
        "  def __init__(self, weights):\n",
        "    self.weights = weights\n",
        "  \n",
        "  def _f(self,x): #activation function: sigmoid\n",
        "    return 1. / (1. + np.exp(-x))\n",
        "  \n",
        "  def __call__(self, x): #forward pass through each layer in the deep ffnn\n",
        "    for w in self.weights:\n",
        "      x = self._f(x @ w)\n",
        "    return x\n",
        "\n",
        "class GA:\n",
        "  evolutionary_history = [0]\n",
        "  #hyperparameters\n",
        "  n_hidden = 10\n",
        "  alpha = .1\n",
        "  max_generations = 40\n",
        "  population_size = 40\n",
        "  p_perturb_weight = 1\n",
        "  p_mutate_weight = 1\n",
        "  p_mutate_layer = .5\n",
        "  p_add_layer = .1\n",
        "\n",
        "  def __init__(self,n_inputs,n_outputs,x_test,y_test):\n",
        "    self.n_inputs, self.n_outputs = n_inputs,n_outputs \n",
        "    self.genomes = [[np.random.randn(self.n_inputs,self.n_hidden),np.random.randn(self.n_hidden,self.n_outputs)] for _ in range(self.population_size)]  #each genome is a 2D matrix of synapse weights for each layer in ffnn\n",
        "    self.x_test = x_test\n",
        "    self.y_test = y_test\n",
        "    \n",
        "  def fitness(self, weights):\n",
        "    ann = FFNN(weights)\n",
        "    y_predicted = np.array([ann(x) for x in self.x_test])\n",
        "    rms_error = np.sum((self.y_test - y_predicted)**2)**.5 / len(self.y_test)\n",
        "    return 1-rms_error\n",
        "  \n",
        "  def rank(self,genomes):\n",
        "    self.fitnesses = [self.fitness(genome) for genome in genomes]\n",
        "    self.evolutionary_history.append( max(self.fitnesses) )\n",
        "    return [genomes[i] for _,i in sorted(zip(self.fitnesses,[i for i in range(len(self.fitnesses))]), reverse=True)] #rank genomes by fitness\n",
        "\n",
        "  def mutate(self,genomes):\n",
        "    def noise(x):\n",
        "      return x + np.random.uniform(-self.alpha,self.alpha) if np.random.random() <= self.p_perturb_weight else np.random.uniform(-1,1) if np.random.random() <= self.p_mutate_weight else x\n",
        "    noise = np.vectorize(noise) \n",
        "\n",
        "    for i,weights in enumerate(genomes):   \n",
        "      genomes[i] = [noise(layer) if random.random() <= self.p_mutate_layer else layer for layer in weights] #change some weights\n",
        "      if np.random.random() <= self.p_add_layer: #add another hidden layer \n",
        "        pointer = np.random.randint(1,len(weights)) #add it inbetween the input and output layers\n",
        "        genomes[i] = weights[:pointer] + [np.random.randn(self.n_hidden,self.n_hidden)] + weights[pointer:]                  \n",
        "    return genomes\n",
        "  \n",
        "  def crossover(self,genome1,genome2): #one-point crossover\n",
        "    pointer1 = np.random.randint(1,len(genome1))\n",
        "    pointer2 = np.random.randint(1,len(genome2))\n",
        "    new_genome1 = genome1[:pointer1] + genome2[pointer2:]\n",
        "    new_genome2 = genome2[:pointer2] + genome1[pointer1:]\n",
        "    return new_genome1, new_genome2\n",
        "  \n",
        "  def mate(self,genome1,genome2):\n",
        "    child1,child2 = self.crossover(genome1,genome2)\n",
        "    return genome1, genome2, child1, child2 # returns x2 parents & x2 children (i.e. mixtures of both parents)\n",
        "  \n",
        "  def g_algorithm(self):\n",
        "    self.best_genome = self.rank(self.genomes)[0]\n",
        "    fitness_total = sum(self.fitnesses)\n",
        "    elite_indexes = np.random.choice(len(self.genomes), (self.population_size // 4) -1, p= [f/fitness_total for f in self.fitnesses]) #randomly sample quarter of new population from the old using fitness to determine probability of being sampled \n",
        "    elites = [self.genomes[i] for i in elite_indexes]\n",
        "    offspring = [child for parent1,parent2 in zip(elites,random.sample(elites, len(elites))) for child in self.mate(parent1,parent2) ]  #elite's offspring replace population (4 children for every genome)\n",
        "    self.genomes = self.mutate(offspring) + [self.best_genome] + [[np.random.randn(self.n_inputs,self.n_hidden), np.random.randn(self.n_hidden,self.n_outputs)] for _ in range(3)] #new population is offspting and the best parent (in case all children are worse) and three new random genomes (in case the current gene pool simply isnt good enough)\n",
        "    \n",
        "  def evolve(self):\n",
        "    for generation in range(self.max_generations):\n",
        "      self.g_algorithm()\n",
        "      print(generation, self.evolutionary_history[-1])\n",
        "      "
      ],
      "execution_count": 0,
      "outputs": []
    },
    {
      "metadata": {
        "id": "q-27AE_VzLg6",
        "colab_type": "code",
        "outputId": "f0b8b921-b555-4cfc-eb6a-abfe5d932a7f",
        "colab": {
          "base_uri": "https://localhost:8080/",
          "height": 1631
        }
      },
      "cell_type": "code",
      "source": [
        "g = GA(2,3,training_inputs,training_outputs)\n",
        "g.evolve()\n",
        "best_weight = g.best_genome"
      ],
      "execution_count": 0,
      "outputs": [
        {
          "output_type": "stream",
          "text": [
            "0 0.9933505203947316\n",
            "1 0.9951896286027914\n",
            "2 0.9951896286027914\n",
            "3 0.9951896286027914\n",
            "4 0.9951896286027914\n",
            "5 0.9956011793951844\n",
            "6 0.9956011793951844\n",
            "7 0.9956011793951844\n",
            "8 0.9956011793951844\n",
            "9 0.9956011793951844\n",
            "10 0.9956011793951844\n",
            "11 0.9956011793951844\n",
            "12 0.9956011793951844\n",
            "13 0.9957616186208411\n",
            "14 0.9957616186208411\n",
            "15 0.9957616186208411\n",
            "16 0.9961449015433846\n",
            "17 0.9961449015433846\n",
            "18 0.9961449015433846\n",
            "19 0.9961449015433846\n",
            "20 0.9961449015433846\n",
            "21 0.9961449015433846\n",
            "22 0.9962546338929191\n",
            "23 0.9963209246569321\n",
            "24 0.9963209246569321\n",
            "25 0.9963209246569321\n",
            "26 0.9963209246569321\n",
            "27 0.9963209246569321\n",
            "28 0.9963209246569321\n",
            "29 0.9963209246569321\n",
            "30 0.9963408101611082\n",
            "31 0.9963408101611082\n",
            "32 0.9963408101611082\n",
            "33 0.9963408101611082\n",
            "34 0.9963408101611082\n",
            "35 0.9963408101611082\n",
            "36 0.9963408101611082\n",
            "37 0.9963450575974551\n",
            "38 0.9963450575974551\n",
            "39 0.9963450575974551\n"
          ],
          "name": "stdout"
        }
      ]
    },
    {
      "metadata": {
        "id": "gz586KyzNPSF",
        "colab_type": "code",
        "outputId": "344af84b-e149-4a9e-dc36-6b93d154167e",
        "colab": {
          "base_uri": "https://localhost:8080/",
          "height": 300
        }
      },
      "cell_type": "code",
      "source": [
        "import matplotlib.pyplot as plt\n",
        "plt.plot(g.evolutionary_history)\n",
        "plt.xlabel('generations')\n",
        "plt.ylabel('fitness')"
      ],
      "execution_count": 0,
      "outputs": [
        {
          "output_type": "execute_result",
          "data": {
            "text/plain": [
              "Text(0, 0.5, 'fitness')"
            ]
          },
          "metadata": {
            "tags": []
          },
          "execution_count": 57
        },
        {
          "output_type": "display_data",
          "data": {
            "image/png": "[encoded data removed]",
            "text/plain": [
              "<Figure size 432x288 with 1 Axes>"
            ]
          },
          "metadata": {
            "tags": []
          }
        }
      ]
    },
    {
      "metadata": {
        "id": "7kbQAgmpRBWF",
        "colab_type": "code",
        "outputId": "de1fe891-3807-470c-a33f-1c9028b8cc5f",
        "colab": {
          "base_uri": "https://localhost:8080/",
          "height": 1409
        }
      },
      "cell_type": "code",
      "source": [
        "best_weight"
      ],
      "execution_count": 0,
      "outputs": [
        {
          "output_type": "execute_result",
          "data": {
            "text/plain": [
              "[array([[-1.03772758,  0.01593137,  2.15622101, -1.54246166,  0.16623642,\n",
              "          0.88023738, -0.19629725,  1.8532937 ,  0.36958075,  0.1726099 ],\n",
              "        [ 1.18598835,  0.16338194, -0.02530909,  0.38323158,  0.7296611 ,\n",
              "          1.26240881, -0.53424709, -0.33897982,  0.98091552,  0.3421445 ]]),\n",
              " array([[-1.10902259,  0.05770393,  1.23692538,  0.79156978,  1.49578936,\n",
              "          0.39699429, -0.79960484, -0.43247646,  0.88565903,  1.5447115 ],\n",
              "        [ 0.24267635, -2.83284181,  0.90841263, -1.07828208, -0.38967772,\n",
              "          0.29574081, -0.32653917, -2.18986457,  1.01111437,  0.11971026],\n",
              "        [-1.79105285,  0.07369092, -0.5204834 , -0.69873363, -1.25271548,\n",
              "          0.12317764, -0.70636956,  1.66107063,  2.04642184, -0.56927134],\n",
              "        [ 0.62780969, -1.86519746, -0.03476933,  1.56100088,  0.20566031,\n",
              "         -1.37214072,  0.62643336,  1.79312734,  1.12476221,  1.31594007],\n",
              "        [-0.42625556, -0.92969545,  1.01033424,  0.18800239,  0.34526087,\n",
              "          1.3478651 , -1.23928635,  1.02281689, -0.01453593,  1.88421897],\n",
              "        [ 1.03469134,  0.95844735,  1.61281684, -0.34805454,  0.20966621,\n",
              "          1.1646703 ,  1.23814015, -0.90056151,  0.20570434, -1.62149199],\n",
              "        [ 0.37461472,  0.15304671, -0.29718998, -0.71593144,  1.54474244,\n",
              "         -0.2346301 ,  1.91750781, -1.35461362,  2.24525462, -0.48064161],\n",
              "        [ 0.27549835,  0.56567416,  0.47487183, -0.17209626, -1.48299553,\n",
              "          0.72061904, -0.9970222 ,  0.66013647,  0.22210222, -0.75575187],\n",
              "        [-0.94209038, -0.07190249, -0.26786782, -0.24330245,  0.21086492,\n",
              "          0.37103691, -0.83326039,  0.62943336, -0.34689142,  1.53205231],\n",
              "        [-0.77854015, -0.05342342,  0.01164335, -0.8712879 , -0.00904233,\n",
              "          1.00286516,  2.07513019,  0.74998473, -1.53910622,  0.22753845]]),\n",
              " array([[ 1.01424224e+00, -2.26926579e-03, -5.52105323e-02],\n",
              "        [-3.42108514e-01, -3.24570846e-01,  4.68203262e-01],\n",
              "        [ 1.09613714e+00, -4.86231511e-02,  5.33788673e-01],\n",
              "        [ 4.07190114e-01, -2.20743805e+00,  4.22546128e-01],\n",
              "        [-1.51360943e+00, -9.04300491e-01,  9.71274065e-01],\n",
              "        [ 1.39700390e+00,  9.49365344e-01, -1.13466213e-02],\n",
              "        [ 9.84908188e-01,  1.34084012e+00, -2.71123858e+00],\n",
              "        [-1.21365365e+00,  1.73886884e+00,  8.82077671e-01],\n",
              "        [-6.79899753e-02,  7.73644795e-01,  9.25468436e-01],\n",
              "        [ 2.03530011e-01, -4.76136729e-01,  1.50186210e+00]])]"
            ]
          },
          "metadata": {
            "tags": []
          },
          "execution_count": 58
        }
      ]
    },
    {
      "metadata": {
        "id": "-KkSc0M7EVHV",
        "colab_type": "code",
        "outputId": "1979ef69-09a7-489a-b017-7db0cbe4e4bf",
        "colab": {
          "base_uri": "https://localhost:8080/",
          "height": 343
        }
      },
      "cell_type": "code",
      "source": [
        "import matplotlib.pyplot as plt\n",
        "_, axes = plt.subplots(1, len(best_weight),figsize=(15, 5) )\n",
        "import pandas as pd\n",
        "import seaborn as sns\n",
        "for layer in range(len(best_weight)):\n",
        "  sns.heatmap(pd.DataFrame({f'{i}':w for i,w in enumerate(best_weight[layer])}),center=0,cmap=\"BrBG\",ax=axes[layer])"
      ],
      "execution_count": 0,
      "outputs": [
        {
          "output_type": "display_data",
          "data": {
            "image/png": "[encoded data removed]",
            "text/plain": [
              "<Figure size 1080x360 with 6 Axes>"
            ]
          },
          "metadata": {
            "tags": []
          }
        }
      ]
    },
    {
      "metadata": {
        "id": "CLZQ2hp_HWR6",
        "colab_type": "code",
        "outputId": "f9cded2e-3561-47c5-b543-2b748bae43fa",
        "colab": {
          "base_uri": "https://localhost:8080/",
          "height": 34
        }
      },
      "cell_type": "code",
      "source": [
        "evolved_ann = FFNN(best_weight)\n",
        "evolved_ann([1,1])"
      ],
      "execution_count": 0,
      "outputs": [
        {
          "output_type": "execute_result",
          "data": {
            "text/plain": [
              "array([0.80964743, 0.9217896 , 0.93527353])"
            ]
          },
          "metadata": {
            "tags": []
          },
          "execution_count": 61
        }
      ]
    },
    {
      "metadata": {
        "id": "rVcq_0EzHgLK",
        "colab_type": "code",
        "outputId": "c431d573-15c1-4718-ec5d-88e16bef5362",
        "colab": {
          "base_uri": "https://localhost:8080/",
          "height": 73
        }
      },
      "cell_type": "code",
      "source": [
        "predicted_outputs = evolved_ann(training_inputs)\n",
        "\n",
        "predicted_image_array = np.zeros_like(image_array)\n",
        "i = 0\n",
        "for row,rgbs in enumerate(predicted_image_array):\n",
        "  for column in range(len(rgbs)):\n",
        "    r,g,b = predicted_outputs[i]\n",
        "    predicted_image_array[row][column] = [r*255,g*255,b*255]\n",
        "    i += 1\n",
        "Image.fromarray(predicted_image_array)"
      ],
      "execution_count": 0,
      "outputs": [
        {
          "output_type": "execute_result",
          "data": {
            "image/png": "[encoded data removed]",
            "text/plain": [
              "<PIL.Image.Image image mode=RGB size=100x56 at 0x7F3E4B292828>"
            ]
          },
          "metadata": {
            "tags": []
          },
          "execution_count": 62
        }
      ]
    },
    {
      "metadata": {
        "id": "yWK-2Q26sp_W",
        "colab_type": "text"
      },
      "cell_type": "markdown",
      "source": [
        "# Extreme Learning Machine"
      ]
    },
    {
      "metadata": {
        "id": "EtM4-h3FssTb",
        "colab_type": "code",
        "colab": {}
      },
      "cell_type": "code",
      "source": [
        "import numpy as np\n",
        "\n",
        "class ELM:\n",
        "  def __init__(self, n_inputs: int, n_hidden = 3000):\n",
        "    self.random_weights = np.random.normal(size=[n_inputs, n_hidden])\n",
        "    \n",
        "  def learn(self, X: np.ndarray, Y: np.ndarray):\n",
        "    H = self._hidden_layer(X)\n",
        "    self.output_weights = np.linalg.pinv(H) @ Y\n",
        "    \n",
        "  def _f(self, x: np.ndarray): \n",
        "    return 1. / (1. + np.exp(-x)) #activation function: sigmoid\n",
        "    \n",
        "  def _hidden_layer(self, inputs: np.ndarray): \n",
        "    return self._f(inputs @ self.random_weights)\n",
        "  \n",
        "  def _output_layer(self, hidden: np.ndarray): \n",
        "    return hidden @ self.output_weights\n",
        "  \n",
        "  def __call__(self, inputs: np.ndarray):  #infer\n",
        "    return self._output_layer(self._hidden_layer(inputs))"
      ],
      "execution_count": 0,
      "outputs": []
    },
    {
      "metadata": {
        "id": "PvqjUpUU3U4T",
        "colab_type": "code",
        "colab": {}
      },
      "cell_type": "code",
      "source": [
        "elm = ELM(2)\n",
        "elm.learn(np.array(training_inputs), np.array(training_outputs))"
      ],
      "execution_count": 0,
      "outputs": []
    },
    {
      "metadata": {
        "id": "EC-rxa2l7J7t",
        "colab_type": "code",
        "outputId": "d57b54ea-a6ac-4412-e9a1-e77546c0d2c7",
        "colab": {
          "base_uri": "https://localhost:8080/",
          "height": 54
        }
      },
      "cell_type": "code",
      "source": [
        "elm([1,1])"
      ],
      "execution_count": 0,
      "outputs": [
        {
          "output_type": "execute_result",
          "data": {
            "text/plain": [
              "array([0.95012379, 0.94977713, 0.94932604])"
            ]
          },
          "metadata": {
            "tags": []
          },
          "execution_count": 17
        }
      ]
    },
    {
      "metadata": {
        "id": "BejzJvp_5t3c",
        "colab_type": "code",
        "outputId": "b94a4494-03eb-4b41-9f72-e4d136567ae4",
        "colab": {
          "base_uri": "https://localhost:8080/",
          "height": 73
        }
      },
      "cell_type": "code",
      "source": [
        "predicted_outputs = elm(training_inputs)\n",
        "\n",
        "predicted_image_array = np.zeros_like(image_array)\n",
        "i = 0\n",
        "for row,rgbs in enumerate(predicted_image_array):\n",
        "  for column in range(len(rgbs)):\n",
        "    r,g,b = predicted_outputs[i]\n",
        "    predicted_image_array[row][column] = [r*255,g*255,b*255]\n",
        "    i += 1\n",
        "Image.fromarray(predicted_image_array)"
      ],
      "execution_count": 0,
      "outputs": [
        {
          "output_type": "execute_result",
          "data": {
            "image/png": "[encoded data removed]",
            "text/plain": [
              "<PIL.Image.Image image mode=RGB size=100x56 at 0x7FDAB5BFC550>"
            ]
          },
          "metadata": {
            "tags": []
          },
          "execution_count": 32
        }
      ]
    }
  ]
}