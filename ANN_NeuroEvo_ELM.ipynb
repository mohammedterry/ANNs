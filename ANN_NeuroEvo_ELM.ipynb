{
  "nbformat": 4,
  "nbformat_minor": 0,
  "metadata": {
    "colab": {
      "name": "ANN_NeuroEvo_ELM.ipynb",
      "version": "0.3.2",
      "provenance": [],
      "collapsed_sections": [],
      "include_colab_link": true
    },
    "kernelspec": {
      "name": "python3",
      "display_name": "Python 3"
    }
  },
  "cells": [
    {
      "cell_type": "markdown",
      "metadata": {
        "id": "view-in-github",
        "colab_type": "text"
      },
      "source": [
        "<a href=\"https://colab.research.google.com/github/mohammedterry/ANNs/blob/master/ANN_NeuroEvo_ELM.ipynb\" target=\"_parent\"><img src=\"https://colab.research.google.com/assets/colab-badge.svg\" alt=\"Open In Colab\"/></a>"
      ]
    },
    {
      "metadata": {
        "id": "F5CvgmR83r8V",
        "colab_type": "code",
        "outputId": "d9fe49f0-5004-47fd-f156-45aaa2de31bc",
        "colab": {
          "base_uri": "https://localhost:8080/",
          "height": 86
        }
      },
      "cell_type": "code",
      "source": [
        "!curl -O https://pmcvariety.files.wordpress.com/2018/04/twitter-logo.jpg?w=100&h=100&crop=1\n",
        "!ls"
      ],
      "execution_count": 32,
      "outputs": [
        {
          "output_type": "stream",
          "text": [
            "  % Total    % Received % Xferd  Average Speed   Time    Time     Time  Current\n",
            "                                 Dload  Upload   Total   Spent    Left  Speed\n",
            "\r  0     0    0     0    0     0      0      0 --:--:-- --:--:-- --:--:--     0\r100  3593  100  3593    0     0  29211      0 --:--:-- --:--:-- --:--:-- 29211\n",
            " sample_data  'twitter-logo.jpg?w=100'\n"
          ],
          "name": "stdout"
        }
      ]
    },
    {
      "metadata": {
        "id": "ZCeDsSA-3u25",
        "colab_type": "code",
        "colab": {}
      },
      "cell_type": "code",
      "source": [
        "from PIL import Image\n",
        "image = Image.open('twitter-logo.jpg?w=100')"
      ],
      "execution_count": 0,
      "outputs": []
    },
    {
      "metadata": {
        "id": "iHLSD1L93xGd",
        "colab_type": "code",
        "colab": {}
      },
      "cell_type": "code",
      "source": [
        "import numpy as np\n",
        "image_array = np.asarray(image)"
      ],
      "execution_count": 0,
      "outputs": []
    },
    {
      "metadata": {
        "id": "mm98KTfg3z15",
        "colab_type": "code",
        "colab": {}
      },
      "cell_type": "code",
      "source": [
        "training_inputs,training_outputs = [],[]\n",
        "for row,rgbs in enumerate(image_array):\n",
        "  for column,rgb in enumerate(rgbs):\n",
        "    training_inputs.append(np.array([row,column]))\n",
        "    r,g,b = rgb\n",
        "    training_outputs.append(np.array([r/255,g/255,b/255]))"
      ],
      "execution_count": 0,
      "outputs": []
    },
    {
      "metadata": {
        "id": "PSy28SDVsmfJ",
        "colab_type": "text"
      },
      "cell_type": "markdown",
      "source": [
        "# NeuroEvolution"
      ]
    },
    {
      "metadata": {
        "id": "za1oBj0GstT9",
        "colab_type": "code",
        "colab": {}
      },
      "cell_type": "code",
      "source": [
        "import numpy as np\n",
        "import random\n",
        "\n",
        "class FFNN:\n",
        "  def __init__(self, weights):\n",
        "    self.weights = weights\n",
        "  \n",
        "  def _f(self,x): #activation function: sigmoid\n",
        "    return 1. / (1. + np.exp(-x))\n",
        "  \n",
        "  def __call__(self, x): #forward pass through each layer in the deep ffnn\n",
        "    for w in self.weights:\n",
        "      x = self._f(x @ w)\n",
        "    return x\n",
        "\n",
        "class GA:\n",
        "  evolutionary_history = [0]\n",
        "  #hyperparameters\n",
        "  n_hidden = 15\n",
        "  max_generations = 100\n",
        "  population_size = 40\n",
        "  p_perturb_weight = .8\n",
        "  p_mutate_weight = .08\n",
        "  p_mutate_layer = .3\n",
        "  p_add_layer = .03\n",
        "\n",
        "  def __init__(self,n_inputs,n_outputs,x_test,y_test):\n",
        "    self.n_inputs, self.n_outputs = n_inputs,n_outputs \n",
        "    self.genomes = [[np.random.rand(self.n_inputs,self.n_hidden),np.random.rand(self.n_hidden,self.n_outputs)] for _ in range(self.population_size)]  #each genome is a 2D matrix of synapse weights for each layer in ffnn\n",
        "    self.x_test = x_test\n",
        "    self.y_test = y_test\n",
        "    \n",
        "  def fitness(self, weights):\n",
        "    ann = FFNN(weights)\n",
        "    y_predicted = np.array([ann(x) for x in self.x_test])\n",
        "    difference = np.sum((self.y_test - y_predicted)**2) \n",
        "    return 1/difference\n",
        "  \n",
        "  def rank(self,genomes):\n",
        "    self.fitnesses = [self.fitness(genome) for genome in genomes]\n",
        "    self.evolutionary_history.append( max(self.fitnesses) )\n",
        "    return [genomes[i] for _,i in sorted(zip(self.fitnesses,[i for i in range(len(self.fitnesses))]), reverse=True)] #rank genomes by fitness\n",
        "\n",
        "  def mutate(self,genomes):\n",
        "    def noise(x):\n",
        "      return x + np.random.uniform(-.1,.1) if np.random.random() <= self.p_perturb_weight else np.random.uniform(-1,1) if np.random.random() <= self.p_mutate_weight else x\n",
        "    noise = np.vectorize(noise) \n",
        "\n",
        "    for i,weights in enumerate(genomes):   \n",
        "      genomes[i] = [noise(layer) if random.random() <= self.p_mutate_layer else layer for layer in weights] #change some weights\n",
        "      if np.random.random() <= self.p_add_layer: #add another hidden layer \n",
        "        pointer = np.random.randint(1,len(weights)) #add it inbetween the input and output layers\n",
        "        genomes[i] = weights[:pointer] + [np.random.rand(self.n_hidden,self.n_hidden)] + weights[pointer:]                  \n",
        "    return genomes\n",
        "  \n",
        "  def crossover(self,genome1,genome2): #one-point crossover\n",
        "    pointer1 = np.random.randint(1,len(genome1))\n",
        "    pointer2 = np.random.randint(1,len(genome2))\n",
        "    new_genome1 = genome1[:pointer1] + genome2[pointer2:]\n",
        "    new_genome2 = genome2[:pointer2] + genome1[pointer1:]\n",
        "    return new_genome1, new_genome2\n",
        "  \n",
        "  def mate(self,genome1,genome2):\n",
        "    child1,child2 = self.crossover(genome1,genome2)\n",
        "    return genome1, genome2, child1, child2 # returns x2 parents & x2 children (i.e. mixtures of both parents)\n",
        "  \n",
        "  def g_algorithm(self):\n",
        "    self.best_genome = self.rank(self.genomes)[0]\n",
        "    fitness_total = sum(self.fitnesses)\n",
        "    elite_indexes = np.random.choice(len(self.genomes), (self.population_size // 4) -1, p= [f/fitness_total for f in self.fitnesses]) #randomly sample quarter of new population from the old using fitness to determine probability of being sampled \n",
        "    elites = [self.genomes[i] for i in elite_indexes]\n",
        "    offspring = [child for parent1,parent2 in zip(elites,random.sample(elites, len(elites))) for child in self.mate(parent1,parent2) ]  #elite's offspring replace population (4 children for every genome)\n",
        "    self.genomes = self.mutate(offspring) + [self.best_genome] + [[np.random.rand(self.n_inputs,self.n_hidden), np.random.rand(self.n_hidden,self.n_outputs)] for _ in range(3)] #new population is offspting and the best parent (in case all children are worse) and three new random genomes (in case the current gene pool simply isnt good enough)\n",
        "    \n",
        "  def evolve(self):\n",
        "    for generation in range(self.max_generations):\n",
        "      self.g_algorithm()\n",
        "      print(generation, self.evolutionary_history[-1])\n",
        "      "
      ],
      "execution_count": 0,
      "outputs": []
    },
    {
      "metadata": {
        "id": "q-27AE_VzLg6",
        "colab_type": "code",
        "outputId": "aa780d21-94e0-4638-c032-b74aeda7f60d",
        "colab": {
          "base_uri": "https://localhost:8080/",
          "height": 1745
        }
      },
      "cell_type": "code",
      "source": [
        "g = GA(2,3,training_inputs,training_outputs)\n",
        "g.evolve()\n",
        "best_weight = g.best_genome"
      ],
      "execution_count": 76,
      "outputs": [
        {
          "output_type": "stream",
          "text": [
            "0 0.00150147577113586\n",
            "1 0.00150147577113586\n",
            "2 0.0015317640094908533\n",
            "3 0.001534356533170726\n",
            "4 0.001534356533170726\n",
            "5 0.0015429940583092927\n",
            "6 0.001561307313473308\n",
            "7 0.0015821887428587086\n",
            "8 0.0015821887428587086\n",
            "9 0.0015821887428587086\n",
            "10 0.0015821887428587086\n",
            "11 0.0015821887428587086\n",
            "12 0.0015821887428587086\n",
            "13 0.0015821887428587086\n",
            "14 0.0015821887428587086\n",
            "15 0.0015821887428587086\n",
            "16 0.0015821887428587086\n",
            "17 0.0015978443255750862\n",
            "18 0.0015978443255750862\n",
            "19 0.0016423755453072548\n",
            "20 0.0016423755453072548\n",
            "21 0.0016423755453072548\n",
            "22 0.0016527948423254726\n",
            "23 0.0016583560334180116\n",
            "24 0.0016583560334180116\n",
            "25 0.0016985950496715176\n",
            "26 0.0016985950496715176\n",
            "27 0.0016985950496715176\n",
            "28 0.0016985950496715176\n",
            "29 0.0016985950496715176\n",
            "30 0.0016985950496715176\n",
            "31 0.0016994040535708874\n",
            "32 0.0017205148201031766\n",
            "33 0.0017648068406323882\n",
            "34 0.0017648068406323882\n",
            "35 0.0017648068406323882\n",
            "36 0.0019931735071931447\n",
            "37 0.0019931735071931447\n",
            "38 0.0019931735071931447\n",
            "39 0.0019931735071931447\n",
            "40 0.0019931735071931447\n",
            "41 0.0019931735071931447\n",
            "42 0.0020761727134389215\n",
            "43 0.0020761727134389215\n",
            "44 0.0020985696510034163\n",
            "45 0.0020985696510034163\n",
            "46 0.0021466160167867092\n",
            "47 0.0022641970967074493\n",
            "48 0.002361772293568801\n",
            "49 0.002361772293568801\n",
            "50 0.002538377027172024\n",
            "51 0.0025806175099337457\n",
            "52 0.0025806175099337457\n",
            "53 0.0025806175099337457\n",
            "54 0.0025806175099337457\n",
            "55 0.0025806175099337457\n",
            "56 0.0025806175099337457\n",
            "57 0.0025806175099337457\n",
            "58 0.0025806175099337457\n",
            "59 0.0025806175099337457\n",
            "60 0.0025806175099337457\n",
            "61 0.0025806175099337457\n",
            "62 0.0025806175099337457\n",
            "63 0.0025806175099337457\n",
            "64 0.0025806175099337457\n",
            "65 0.0026430522701613255\n",
            "66 0.0026430522701613255\n",
            "67 0.0026430522701613255\n",
            "68 0.0026430522701613255\n",
            "69 0.0026430522701613255\n",
            "70 0.0026430522701613255\n",
            "71 0.0026430522701613255\n",
            "72 0.0026430522701613255\n",
            "73 0.0026430522701613255\n",
            "74 0.0026430522701613255\n",
            "75 0.0026430522701613255\n",
            "76 0.0026614803126215575\n",
            "77 0.0026614803126215575\n",
            "78 0.0026614803126215575\n",
            "79 0.0026614803126215575\n",
            "80 0.0026614803126215575\n",
            "81 0.0026731686038923156\n",
            "82 0.0026731686038923156\n",
            "83 0.0026731686038923156\n",
            "84 0.0026731686038923156\n",
            "85 0.0026731686038923156\n",
            "86 0.0026731686038923156\n",
            "87 0.0026731686038923156\n",
            "88 0.0026731686038923156\n",
            "89 0.0026731686038923156\n",
            "90 0.0027068528379253984\n",
            "91 0.0027068528379253984\n",
            "92 0.0027068528379253984\n",
            "93 0.0027068528379253984\n",
            "94 0.0027068528379253984\n",
            "95 0.0027068528379253984\n",
            "96 0.0027068528379253984\n",
            "97 0.0027068528379253984\n",
            "98 0.0027068528379253984\n",
            "99 0.0027068528379253984\n"
          ],
          "name": "stdout"
        }
      ]
    },
    {
      "metadata": {
        "id": "gz586KyzNPSF",
        "colab_type": "code",
        "outputId": "6bc9b975-d3dd-4ba3-a220-7c2e6b0d71b8",
        "colab": {
          "base_uri": "https://localhost:8080/",
          "height": 301
        }
      },
      "cell_type": "code",
      "source": [
        "import matplotlib.pyplot as plt\n",
        "plt.plot(g.evolutionary_history)\n",
        "plt.xlabel('generations')\n",
        "plt.ylabel('fitness')"
      ],
      "execution_count": 77,
      "outputs": [
        {
          "output_type": "execute_result",
          "data": {
            "text/plain": [
              "Text(0, 0.5, 'fitness')"
            ]
          },
          "metadata": {
            "tags": []
          },
          "execution_count": 77
        },
        {
          "output_type": "display_data",
          "data": {
            "image/png": "[encoded data removed]",
            "text/plain": [
              "<Figure size 432x288 with 1 Axes>"
            ]
          },
          "metadata": {
            "tags": []
          }
        }
      ]
    },
    {
      "metadata": {
        "id": "7kbQAgmpRBWF",
        "colab_type": "code",
        "outputId": "9378ff25-8d5b-4886-cdb9-873a45e12a8c",
        "colab": {
          "base_uri": "https://localhost:8080/",
          "height": 380
        }
      },
      "cell_type": "code",
      "source": [
        "best_weight"
      ],
      "execution_count": 78,
      "outputs": [
        {
          "output_type": "execute_result",
          "data": {
            "text/plain": [
              "[array([[ 0.17749836,  0.82330385,  0.01902527, -0.01617827,  0.63177517,\n",
              "         -0.74614883,  0.48955901,  0.29894383,  0.1858499 ,  0.22357493,\n",
              "          0.82476691, -0.01051267,  0.57468158,  0.19227818,  0.35489571],\n",
              "        [-0.25830201,  0.5444552 ,  1.10750747,  0.64444155,  0.03999434,\n",
              "          0.46368436,  0.2464137 ,  0.79703966, -1.01470426,  0.39851383,\n",
              "          0.4352035 ,  0.95307887, -1.00647265, -0.27563203,  0.5795193 ]]),\n",
              " array([[ 0.99180653,  0.1768239 ,  0.21542426],\n",
              "        [-0.52555643,  0.23787003,  0.68611409],\n",
              "        [ 0.19535684, -0.83931887,  0.2592691 ],\n",
              "        [ 0.39653012,  0.28008232,  0.66812452],\n",
              "        [-0.44971883,  0.52762128,  0.40719681],\n",
              "        [ 0.55145044,  0.04411138,  0.44887554],\n",
              "        [ 0.86300905,  0.21536917,  0.25954058],\n",
              "        [-0.16158686,  0.55611227,  0.3786964 ],\n",
              "        [-0.11132294,  0.36178391,  0.33234205],\n",
              "        [ 0.51391635,  0.55060686, -0.67012014],\n",
              "        [ 0.2372081 , -0.00699378,  0.4482029 ],\n",
              "        [ 0.55098416,  0.18807969,  0.34669318],\n",
              "        [ 0.27463044, -0.07830713, -0.28565774],\n",
              "        [ 0.83301444,  0.23962739,  0.97286316],\n",
              "        [-0.82838257,  0.3715046 , -0.11181154]])]"
            ]
          },
          "metadata": {
            "tags": []
          },
          "execution_count": 78
        }
      ]
    },
    {
      "metadata": {
        "id": "-KkSc0M7EVHV",
        "colab_type": "code",
        "colab": {
          "base_uri": "https://localhost:8080/",
          "height": 269
        },
        "outputId": "b01c3204-d423-4c45-d5f1-c0bb58116cf2"
      },
      "cell_type": "code",
      "source": [
        "import matplotlib.pyplot as plt\n",
        "_, axes = plt.subplots(1, len(best_weight))\n",
        "import pandas as pd\n",
        "import seaborn as sns\n",
        "for layer in range(len(best_weight)):\n",
        "  sns.heatmap(pd.DataFrame({f'{i}':w for i,w in enumerate(best_weight[layer])}),center=0,cmap=\"BrBG\",ax=axes[layer])"
      ],
      "execution_count": 93,
      "outputs": [
        {
          "output_type": "display_data",
          "data": {
            "image/png": "[encoded data removed]",
            "text/plain": [
              "<Figure size 432x288 with 4 Axes>"
            ]
          },
          "metadata": {
            "tags": []
          }
        }
      ]
    },
    {
      "metadata": {
        "id": "CLZQ2hp_HWR6",
        "colab_type": "code",
        "outputId": "175a6167-ef43-4ba5-9363-412c30c8648a",
        "colab": {
          "base_uri": "https://localhost:8080/",
          "height": 35
        }
      },
      "cell_type": "code",
      "source": [
        "evolved_ann = FFNN(best_weight)\n",
        "evolved_ann([1,1])"
      ],
      "execution_count": 79,
      "outputs": [
        {
          "output_type": "execute_result",
          "data": {
            "text/plain": [
              "array([0.84013744, 0.84588341, 0.93937476])"
            ]
          },
          "metadata": {
            "tags": []
          },
          "execution_count": 79
        }
      ]
    },
    {
      "metadata": {
        "id": "rVcq_0EzHgLK",
        "colab_type": "code",
        "outputId": "e255fd9e-3115-4bd2-f12b-168ddb8fa61a",
        "colab": {
          "base_uri": "https://localhost:8080/",
          "height": 74
        }
      },
      "cell_type": "code",
      "source": [
        "predicted_outputs = evolved_ann(training_inputs)\n",
        "\n",
        "predicted_image_array = np.zeros_like(image_array)\n",
        "i = 0\n",
        "for row,rgbs in enumerate(predicted_image_array):\n",
        "  for column in range(len(rgbs)):\n",
        "    r,g,b = predicted_outputs[i]\n",
        "    predicted_image_array[row][column] = [r*255,g*255,b*255]\n",
        "    i += 1\n",
        "Image.fromarray(predicted_image_array)"
      ],
      "execution_count": 80,
      "outputs": [
        {
          "output_type": "execute_result",
          "data": {
            "image/png": "[encoded data removed]",
            "text/plain": [
              "<PIL.Image.Image image mode=RGB size=100x56 at 0x7FF991F2CB00>"
            ]
          },
          "metadata": {
            "tags": []
          },
          "execution_count": 80
        }
      ]
    },
    {
      "metadata": {
        "id": "yWK-2Q26sp_W",
        "colab_type": "text"
      },
      "cell_type": "markdown",
      "source": [
        "# Extreme Learning Machine"
      ]
    },
    {
      "metadata": {
        "id": "EtM4-h3FssTb",
        "colab_type": "code",
        "colab": {}
      },
      "cell_type": "code",
      "source": [
        "import numpy as np\n",
        "\n",
        "class ELM:\n",
        "  def __init__(self, n_inputs: int, n_hidden = 3000):\n",
        "    self.random_weights = np.random.normal(size=[n_inputs, n_hidden])\n",
        "    \n",
        "  def learn(self, X: np.ndarray, Y: np.ndarray):\n",
        "    H = self._hidden_layer(X)\n",
        "    self.output_weights = np.linalg.pinv(H) @ Y\n",
        "    \n",
        "  def _f(self, x: np.ndarray): \n",
        "    return 1. / (1. + np.exp(-x)) #activation function: sigmoid\n",
        "    \n",
        "  def _hidden_layer(self, inputs: np.ndarray): \n",
        "    return self._f(inputs @ self.random_weights)\n",
        "  \n",
        "  def _output_layer(self, hidden: np.ndarray): \n",
        "    return hidden @ self.output_weights\n",
        "  \n",
        "  def __call__(self, inputs: np.ndarray):  #infer\n",
        "    return self._output_layer(self._hidden_layer(inputs))"
      ],
      "execution_count": 0,
      "outputs": []
    },
    {
      "metadata": {
        "id": "PvqjUpUU3U4T",
        "colab_type": "code",
        "colab": {}
      },
      "cell_type": "code",
      "source": [
        "elm = ELM(2)\n",
        "elm.learn(np.array(training_inputs), np.array(training_outputs))"
      ],
      "execution_count": 0,
      "outputs": []
    },
    {
      "metadata": {
        "id": "EC-rxa2l7J7t",
        "colab_type": "code",
        "outputId": "d57b54ea-a6ac-4412-e9a1-e77546c0d2c7",
        "colab": {
          "base_uri": "https://localhost:8080/",
          "height": 54
        }
      },
      "cell_type": "code",
      "source": [
        "elm([1,1])"
      ],
      "execution_count": 0,
      "outputs": [
        {
          "output_type": "execute_result",
          "data": {
            "text/plain": [
              "array([0.95012379, 0.94977713, 0.94932604])"
            ]
          },
          "metadata": {
            "tags": []
          },
          "execution_count": 17
        }
      ]
    },
    {
      "metadata": {
        "id": "BejzJvp_5t3c",
        "colab_type": "code",
        "outputId": "b94a4494-03eb-4b41-9f72-e4d136567ae4",
        "colab": {
          "base_uri": "https://localhost:8080/",
          "height": 73
        }
      },
      "cell_type": "code",
      "source": [
        "predicted_outputs = elm(training_inputs)\n",
        "\n",
        "predicted_image_array = np.zeros_like(image_array)\n",
        "i = 0\n",
        "for row,rgbs in enumerate(predicted_image_array):\n",
        "  for column in range(len(rgbs)):\n",
        "    r,g,b = predicted_outputs[i]\n",
        "    predicted_image_array[row][column] = [r*255,g*255,b*255]\n",
        "    i += 1\n",
        "Image.fromarray(predicted_image_array)"
      ],
      "execution_count": 0,
      "outputs": [
        {
          "output_type": "execute_result",
          "data": {
            "image/png": "[encoded data removed]",
            "text/plain": [
              "<PIL.Image.Image image mode=RGB size=100x56 at 0x7FDAB5BFC550>"
            ]
          },
          "metadata": {
            "tags": []
          },
          "execution_count": 32
        }
      ]
    }
  ]
}